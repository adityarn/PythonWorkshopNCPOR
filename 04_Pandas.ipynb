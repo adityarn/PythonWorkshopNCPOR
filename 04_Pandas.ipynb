{
 "cells": [
  {
   "cell_type": "code",
   "execution_count": 43,
   "metadata": {},
   "outputs": [],
   "source": [
    "import pandas as pd\n",
    "import numpy as np\n",
    "import matplotlib.pyplot as plt"
   ]
  },
  {
   "cell_type": "code",
   "execution_count": 44,
   "metadata": {},
   "outputs": [],
   "source": [
    "ds = pd.Series([1.0, 3.5, 4.6, 7.8])"
   ]
  },
  {
   "cell_type": "code",
   "execution_count": 3,
   "metadata": {},
   "outputs": [
    {
     "data": {
      "text/plain": [
       "0    1.0\n",
       "1    3.5\n",
       "2    4.6\n",
       "3    7.8\n",
       "dtype: float64"
      ]
     },
     "execution_count": 3,
     "metadata": {},
     "output_type": "execute_result"
    }
   ],
   "source": [
    "ds"
   ]
  },
  {
   "cell_type": "code",
   "execution_count": 4,
   "metadata": {},
   "outputs": [
    {
     "data": {
      "text/plain": [
       "1.0"
      ]
     },
     "execution_count": 4,
     "metadata": {},
     "output_type": "execute_result"
    }
   ],
   "source": [
    "ds[0]"
   ]
  },
  {
   "cell_type": "code",
   "execution_count": 45,
   "metadata": {},
   "outputs": [],
   "source": [
    "import numpy as np"
   ]
  },
  {
   "cell_type": "code",
   "execution_count": 6,
   "metadata": {},
   "outputs": [
    {
     "data": {
      "text/plain": [
       "array([ 0.6193976 , -0.43738291, -0.34687977,  0.23278036,  1.1854454 ,\n",
       "       -0.57256875,  1.75208346,  0.03556778, -0.16074252, -0.09515212])"
      ]
     },
     "execution_count": 6,
     "metadata": {},
     "output_type": "execute_result"
    }
   ],
   "source": [
    "np.random.randn(10)"
   ]
  },
  {
   "cell_type": "code",
   "execution_count": 7,
   "metadata": {},
   "outputs": [
    {
     "data": {
      "text/plain": [
       "array([32.85284154, 34.69530231, 24.97448679, 25.42965367, 15.79312401,\n",
       "       38.68741594, 26.41131575, 25.77922713, 28.37656181, 21.26185979])"
      ]
     },
     "execution_count": 7,
     "metadata": {},
     "output_type": "execute_result"
    }
   ],
   "source": [
    "np.random.randn(10)*5 + 25"
   ]
  },
  {
   "cell_type": "code",
   "execution_count": 46,
   "metadata": {},
   "outputs": [],
   "source": [
    "df = pd.DataFrame( {\"names\":[\"Jim\", \"Jane\", \"Alice\", \"Bob\", \"Ekman\", \"Munk\", \"Nansen\", \"Tharp\", \"McBoaty\", \"Earle\"], \"age\":np.random.randn(10)*10 + 30, \n",
    "                    \"weight\":np.random.randn(10)*25 + 75, \n",
    "                    \"university\":[\"Unseen\", \"Gothenburg\", \"Lund\", \"Gothenburg\", \"Unseen\", \"Unseen\", \"Lund\", \"Gothenburg\", \"Unseen\", \"Unseen\"]}, \n",
    "                   index=[\"A\", \"B\", \"C\", \"D\", \"E\", \"F\", \"G\", \"H\", \"I\", \"J\"])"
   ]
  },
  {
   "cell_type": "code",
   "execution_count": 47,
   "metadata": {},
   "outputs": [
    {
     "data": {
      "text/html": [
       "<div>\n",
       "<style scoped>\n",
       "    .dataframe tbody tr th:only-of-type {\n",
       "        vertical-align: middle;\n",
       "    }\n",
       "\n",
       "    .dataframe tbody tr th {\n",
       "        vertical-align: top;\n",
       "    }\n",
       "\n",
       "    .dataframe thead th {\n",
       "        text-align: right;\n",
       "    }\n",
       "</style>\n",
       "<table border=\"1\" class=\"dataframe\">\n",
       "  <thead>\n",
       "    <tr style=\"text-align: right;\">\n",
       "      <th></th>\n",
       "      <th>names</th>\n",
       "      <th>age</th>\n",
       "      <th>weight</th>\n",
       "      <th>university</th>\n",
       "    </tr>\n",
       "  </thead>\n",
       "  <tbody>\n",
       "    <tr>\n",
       "      <th>A</th>\n",
       "      <td>Jim</td>\n",
       "      <td>39.413893</td>\n",
       "      <td>63.998811</td>\n",
       "      <td>Unseen</td>\n",
       "    </tr>\n",
       "    <tr>\n",
       "      <th>B</th>\n",
       "      <td>Jane</td>\n",
       "      <td>32.020081</td>\n",
       "      <td>68.924198</td>\n",
       "      <td>Gothenburg</td>\n",
       "    </tr>\n",
       "    <tr>\n",
       "      <th>C</th>\n",
       "      <td>Alice</td>\n",
       "      <td>41.591701</td>\n",
       "      <td>101.959008</td>\n",
       "      <td>Lund</td>\n",
       "    </tr>\n",
       "    <tr>\n",
       "      <th>D</th>\n",
       "      <td>Bob</td>\n",
       "      <td>44.017436</td>\n",
       "      <td>78.658573</td>\n",
       "      <td>Gothenburg</td>\n",
       "    </tr>\n",
       "    <tr>\n",
       "      <th>E</th>\n",
       "      <td>Ekman</td>\n",
       "      <td>25.221935</td>\n",
       "      <td>73.739336</td>\n",
       "      <td>Unseen</td>\n",
       "    </tr>\n",
       "    <tr>\n",
       "      <th>F</th>\n",
       "      <td>Munk</td>\n",
       "      <td>20.949035</td>\n",
       "      <td>79.803662</td>\n",
       "      <td>Unseen</td>\n",
       "    </tr>\n",
       "    <tr>\n",
       "      <th>G</th>\n",
       "      <td>Nansen</td>\n",
       "      <td>23.219359</td>\n",
       "      <td>84.203665</td>\n",
       "      <td>Lund</td>\n",
       "    </tr>\n",
       "    <tr>\n",
       "      <th>H</th>\n",
       "      <td>Tharp</td>\n",
       "      <td>24.887251</td>\n",
       "      <td>114.821157</td>\n",
       "      <td>Gothenburg</td>\n",
       "    </tr>\n",
       "    <tr>\n",
       "      <th>I</th>\n",
       "      <td>McBoaty</td>\n",
       "      <td>31.030534</td>\n",
       "      <td>120.294309</td>\n",
       "      <td>Unseen</td>\n",
       "    </tr>\n",
       "    <tr>\n",
       "      <th>J</th>\n",
       "      <td>Earle</td>\n",
       "      <td>30.517096</td>\n",
       "      <td>23.216171</td>\n",
       "      <td>Unseen</td>\n",
       "    </tr>\n",
       "  </tbody>\n",
       "</table>\n",
       "</div>"
      ],
      "text/plain": [
       "     names        age      weight  university\n",
       "A      Jim  39.413893   63.998811      Unseen\n",
       "B     Jane  32.020081   68.924198  Gothenburg\n",
       "C    Alice  41.591701  101.959008        Lund\n",
       "D      Bob  44.017436   78.658573  Gothenburg\n",
       "E    Ekman  25.221935   73.739336      Unseen\n",
       "F     Munk  20.949035   79.803662      Unseen\n",
       "G   Nansen  23.219359   84.203665        Lund\n",
       "H    Tharp  24.887251  114.821157  Gothenburg\n",
       "I  McBoaty  31.030534  120.294309      Unseen\n",
       "J    Earle  30.517096   23.216171      Unseen"
      ]
     },
     "execution_count": 47,
     "metadata": {},
     "output_type": "execute_result"
    }
   ],
   "source": [
    "df"
   ]
  },
  {
   "cell_type": "code",
   "execution_count": 48,
   "metadata": {},
   "outputs": [
    {
     "data": {
      "text/plain": [
       "Index(['names', 'age', 'weight', 'university'], dtype='object')"
      ]
     },
     "execution_count": 48,
     "metadata": {},
     "output_type": "execute_result"
    }
   ],
   "source": [
    "df.columns"
   ]
  },
  {
   "cell_type": "code",
   "execution_count": 49,
   "metadata": {},
   "outputs": [
    {
     "data": {
      "text/plain": [
       "Index(['A', 'B', 'C', 'D', 'E', 'F', 'G', 'H', 'I', 'J'], dtype='object')"
      ]
     },
     "execution_count": 49,
     "metadata": {},
     "output_type": "execute_result"
    }
   ],
   "source": [
    "df.index"
   ]
  },
  {
   "cell_type": "code",
   "execution_count": 50,
   "metadata": {},
   "outputs": [
    {
     "data": {
      "text/html": [
       "<div>\n",
       "<style scoped>\n",
       "    .dataframe tbody tr th:only-of-type {\n",
       "        vertical-align: middle;\n",
       "    }\n",
       "\n",
       "    .dataframe tbody tr th {\n",
       "        vertical-align: top;\n",
       "    }\n",
       "\n",
       "    .dataframe thead th {\n",
       "        text-align: right;\n",
       "    }\n",
       "</style>\n",
       "<table border=\"1\" class=\"dataframe\">\n",
       "  <thead>\n",
       "    <tr style=\"text-align: right;\">\n",
       "      <th></th>\n",
       "      <th>names</th>\n",
       "      <th>age</th>\n",
       "      <th>weight</th>\n",
       "      <th>university</th>\n",
       "    </tr>\n",
       "  </thead>\n",
       "  <tbody>\n",
       "    <tr>\n",
       "      <th>A</th>\n",
       "      <td>Jim</td>\n",
       "      <td>39.413893</td>\n",
       "      <td>63.998811</td>\n",
       "      <td>Unseen</td>\n",
       "    </tr>\n",
       "    <tr>\n",
       "      <th>J</th>\n",
       "      <td>Earle</td>\n",
       "      <td>30.517096</td>\n",
       "      <td>23.216171</td>\n",
       "      <td>Unseen</td>\n",
       "    </tr>\n",
       "  </tbody>\n",
       "</table>\n",
       "</div>"
      ],
      "text/plain": [
       "   names        age     weight university\n",
       "A    Jim  39.413893  63.998811     Unseen\n",
       "J  Earle  30.517096  23.216171     Unseen"
      ]
     },
     "execution_count": 50,
     "metadata": {},
     "output_type": "execute_result"
    }
   ],
   "source": [
    "df.loc[[\"A\",\"J\"]]"
   ]
  },
  {
   "cell_type": "code",
   "execution_count": 51,
   "metadata": {},
   "outputs": [
    {
     "data": {
      "text/plain": [
       "A    39.413893\n",
       "J    30.517096\n",
       "Name: age, dtype: float64"
      ]
     },
     "execution_count": 51,
     "metadata": {},
     "output_type": "execute_result"
    }
   ],
   "source": [
    "df.loc[[\"A\",\"J\"], \"age\"]"
   ]
  },
  {
   "cell_type": "code",
   "execution_count": 52,
   "metadata": {},
   "outputs": [
    {
     "data": {
      "text/html": [
       "<div>\n",
       "<style scoped>\n",
       "    .dataframe tbody tr th:only-of-type {\n",
       "        vertical-align: middle;\n",
       "    }\n",
       "\n",
       "    .dataframe tbody tr th {\n",
       "        vertical-align: top;\n",
       "    }\n",
       "\n",
       "    .dataframe thead th {\n",
       "        text-align: right;\n",
       "    }\n",
       "</style>\n",
       "<table border=\"1\" class=\"dataframe\">\n",
       "  <thead>\n",
       "    <tr style=\"text-align: right;\">\n",
       "      <th></th>\n",
       "      <th>names</th>\n",
       "      <th>age</th>\n",
       "      <th>weight</th>\n",
       "      <th>university</th>\n",
       "    </tr>\n",
       "  </thead>\n",
       "  <tbody>\n",
       "    <tr>\n",
       "      <th>A</th>\n",
       "      <td>Jim</td>\n",
       "      <td>39.413893</td>\n",
       "      <td>63.998811</td>\n",
       "      <td>Unseen</td>\n",
       "    </tr>\n",
       "    <tr>\n",
       "      <th>J</th>\n",
       "      <td>Earle</td>\n",
       "      <td>30.517096</td>\n",
       "      <td>23.216171</td>\n",
       "      <td>Unseen</td>\n",
       "    </tr>\n",
       "  </tbody>\n",
       "</table>\n",
       "</div>"
      ],
      "text/plain": [
       "   names        age     weight university\n",
       "A    Jim  39.413893  63.998811     Unseen\n",
       "J  Earle  30.517096  23.216171     Unseen"
      ]
     },
     "execution_count": 52,
     "metadata": {},
     "output_type": "execute_result"
    }
   ],
   "source": [
    "df.iloc[[0,9]]"
   ]
  },
  {
   "cell_type": "markdown",
   "metadata": {},
   "source": [
    "#### Defining your own index, rather than the default index of 0...N may be useful when you need to organize data logically, for example time series data can use the time as index\n",
    "But luckily, you also have access to the 0...N index by using the \"iloc\" selector"
   ]
  },
  {
   "cell_type": "code",
   "execution_count": 53,
   "metadata": {},
   "outputs": [
    {
     "data": {
      "text/plain": [
       "A    39.413893\n",
       "B    32.020081\n",
       "C    41.591701\n",
       "D    44.017436\n",
       "E    25.221935\n",
       "F    20.949035\n",
       "G    23.219359\n",
       "H    24.887251\n",
       "I    31.030534\n",
       "J    30.517096\n",
       "Name: age, dtype: float64"
      ]
     },
     "execution_count": 53,
     "metadata": {},
     "output_type": "execute_result"
    }
   ],
   "source": [
    "df[\"age\"]"
   ]
  },
  {
   "cell_type": "code",
   "execution_count": 54,
   "metadata": {},
   "outputs": [
    {
     "data": {
      "text/plain": [
       "array([ 63.99881067,  68.92419793, 101.95900834,  78.65857272,\n",
       "        73.73933644,  79.80366156,  84.20366488, 114.82115745,\n",
       "       120.29430863,  23.21617103])"
      ]
     },
     "execution_count": 54,
     "metadata": {},
     "output_type": "execute_result"
    }
   ],
   "source": [
    "df[\"weight\"].values # .values returns the column as an array"
   ]
  },
  {
   "cell_type": "code",
   "execution_count": 55,
   "metadata": {},
   "outputs": [
    {
     "data": {
      "text/html": [
       "<div>\n",
       "<style scoped>\n",
       "    .dataframe tbody tr th:only-of-type {\n",
       "        vertical-align: middle;\n",
       "    }\n",
       "\n",
       "    .dataframe tbody tr th {\n",
       "        vertical-align: top;\n",
       "    }\n",
       "\n",
       "    .dataframe thead th {\n",
       "        text-align: right;\n",
       "    }\n",
       "</style>\n",
       "<table border=\"1\" class=\"dataframe\">\n",
       "  <thead>\n",
       "    <tr style=\"text-align: right;\">\n",
       "      <th></th>\n",
       "      <th>age</th>\n",
       "      <th>weight</th>\n",
       "    </tr>\n",
       "  </thead>\n",
       "  <tbody>\n",
       "    <tr>\n",
       "      <th>count</th>\n",
       "      <td>10.000000</td>\n",
       "      <td>10.000000</td>\n",
       "    </tr>\n",
       "    <tr>\n",
       "      <th>mean</th>\n",
       "      <td>31.286832</td>\n",
       "      <td>80.961889</td>\n",
       "    </tr>\n",
       "    <tr>\n",
       "      <th>std</th>\n",
       "      <td>8.063604</td>\n",
       "      <td>27.830657</td>\n",
       "    </tr>\n",
       "    <tr>\n",
       "      <th>min</th>\n",
       "      <td>20.949035</td>\n",
       "      <td>23.216171</td>\n",
       "    </tr>\n",
       "    <tr>\n",
       "      <th>25%</th>\n",
       "      <td>24.970922</td>\n",
       "      <td>70.127983</td>\n",
       "    </tr>\n",
       "    <tr>\n",
       "      <th>50%</th>\n",
       "      <td>30.773815</td>\n",
       "      <td>79.231117</td>\n",
       "    </tr>\n",
       "    <tr>\n",
       "      <th>75%</th>\n",
       "      <td>37.565440</td>\n",
       "      <td>97.520172</td>\n",
       "    </tr>\n",
       "    <tr>\n",
       "      <th>max</th>\n",
       "      <td>44.017436</td>\n",
       "      <td>120.294309</td>\n",
       "    </tr>\n",
       "  </tbody>\n",
       "</table>\n",
       "</div>"
      ],
      "text/plain": [
       "             age      weight\n",
       "count  10.000000   10.000000\n",
       "mean   31.286832   80.961889\n",
       "std     8.063604   27.830657\n",
       "min    20.949035   23.216171\n",
       "25%    24.970922   70.127983\n",
       "50%    30.773815   79.231117\n",
       "75%    37.565440   97.520172\n",
       "max    44.017436  120.294309"
      ]
     },
     "execution_count": 55,
     "metadata": {},
     "output_type": "execute_result"
    }
   ],
   "source": [
    "df.describe()"
   ]
  },
  {
   "cell_type": "code",
   "execution_count": 56,
   "metadata": {},
   "outputs": [
    {
     "data": {
      "text/plain": [
       "array(['Unseen', 'Gothenburg', 'Lund'], dtype=object)"
      ]
     },
     "execution_count": 56,
     "metadata": {},
     "output_type": "execute_result"
    }
   ],
   "source": [
    "df[\"university\"].unique()"
   ]
  },
  {
   "cell_type": "code",
   "execution_count": 57,
   "metadata": {},
   "outputs": [
    {
     "data": {
      "text/html": [
       "<div>\n",
       "<style scoped>\n",
       "    .dataframe tbody tr th:only-of-type {\n",
       "        vertical-align: middle;\n",
       "    }\n",
       "\n",
       "    .dataframe tbody tr th {\n",
       "        vertical-align: top;\n",
       "    }\n",
       "\n",
       "    .dataframe thead th {\n",
       "        text-align: right;\n",
       "    }\n",
       "</style>\n",
       "<table border=\"1\" class=\"dataframe\">\n",
       "  <thead>\n",
       "    <tr style=\"text-align: right;\">\n",
       "      <th></th>\n",
       "      <th>names</th>\n",
       "      <th>age</th>\n",
       "      <th>weight</th>\n",
       "      <th>university</th>\n",
       "    </tr>\n",
       "  </thead>\n",
       "  <tbody>\n",
       "    <tr>\n",
       "      <th>A</th>\n",
       "      <td>Jim</td>\n",
       "      <td>39.413893</td>\n",
       "      <td>63.998811</td>\n",
       "      <td>Unseen</td>\n",
       "    </tr>\n",
       "    <tr>\n",
       "      <th>E</th>\n",
       "      <td>Ekman</td>\n",
       "      <td>25.221935</td>\n",
       "      <td>73.739336</td>\n",
       "      <td>Unseen</td>\n",
       "    </tr>\n",
       "    <tr>\n",
       "      <th>F</th>\n",
       "      <td>Munk</td>\n",
       "      <td>20.949035</td>\n",
       "      <td>79.803662</td>\n",
       "      <td>Unseen</td>\n",
       "    </tr>\n",
       "    <tr>\n",
       "      <th>I</th>\n",
       "      <td>McBoaty</td>\n",
       "      <td>31.030534</td>\n",
       "      <td>120.294309</td>\n",
       "      <td>Unseen</td>\n",
       "    </tr>\n",
       "    <tr>\n",
       "      <th>J</th>\n",
       "      <td>Earle</td>\n",
       "      <td>30.517096</td>\n",
       "      <td>23.216171</td>\n",
       "      <td>Unseen</td>\n",
       "    </tr>\n",
       "  </tbody>\n",
       "</table>\n",
       "</div>"
      ],
      "text/plain": [
       "     names        age      weight university\n",
       "A      Jim  39.413893   63.998811     Unseen\n",
       "E    Ekman  25.221935   73.739336     Unseen\n",
       "F     Munk  20.949035   79.803662     Unseen\n",
       "I  McBoaty  31.030534  120.294309     Unseen\n",
       "J    Earle  30.517096   23.216171     Unseen"
      ]
     },
     "execution_count": 57,
     "metadata": {},
     "output_type": "execute_result"
    }
   ],
   "source": [
    "sel_UU = (df[\"university\"] == \"Unseen\")\n",
    "df.loc[sel_UU] # You can use boolean selectors to select slices of the dataframe"
   ]
  },
  {
   "cell_type": "code",
   "execution_count": 58,
   "metadata": {},
   "outputs": [
    {
     "data": {
      "text/html": [
       "<div>\n",
       "<style scoped>\n",
       "    .dataframe tbody tr th:only-of-type {\n",
       "        vertical-align: middle;\n",
       "    }\n",
       "\n",
       "    .dataframe tbody tr th {\n",
       "        vertical-align: top;\n",
       "    }\n",
       "\n",
       "    .dataframe thead th {\n",
       "        text-align: right;\n",
       "    }\n",
       "</style>\n",
       "<table border=\"1\" class=\"dataframe\">\n",
       "  <thead>\n",
       "    <tr style=\"text-align: right;\">\n",
       "      <th></th>\n",
       "      <th>names</th>\n",
       "      <th>age</th>\n",
       "      <th>weight</th>\n",
       "    </tr>\n",
       "    <tr>\n",
       "      <th>university</th>\n",
       "      <th></th>\n",
       "      <th></th>\n",
       "      <th></th>\n",
       "    </tr>\n",
       "  </thead>\n",
       "  <tbody>\n",
       "    <tr>\n",
       "      <th>Gothenburg</th>\n",
       "      <td>3</td>\n",
       "      <td>3</td>\n",
       "      <td>3</td>\n",
       "    </tr>\n",
       "    <tr>\n",
       "      <th>Lund</th>\n",
       "      <td>2</td>\n",
       "      <td>2</td>\n",
       "      <td>2</td>\n",
       "    </tr>\n",
       "    <tr>\n",
       "      <th>Unseen</th>\n",
       "      <td>5</td>\n",
       "      <td>5</td>\n",
       "      <td>5</td>\n",
       "    </tr>\n",
       "  </tbody>\n",
       "</table>\n",
       "</div>"
      ],
      "text/plain": [
       "            names  age  weight\n",
       "university                    \n",
       "Gothenburg      3    3       3\n",
       "Lund            2    2       2\n",
       "Unseen          5    5       5"
      ]
     },
     "execution_count": 58,
     "metadata": {},
     "output_type": "execute_result"
    }
   ],
   "source": [
    "df.groupby(\"university\").count()"
   ]
  },
  {
   "cell_type": "code",
   "execution_count": 59,
   "metadata": {},
   "outputs": [
    {
     "data": {
      "text/html": [
       "<div>\n",
       "<style scoped>\n",
       "    .dataframe tbody tr th:only-of-type {\n",
       "        vertical-align: middle;\n",
       "    }\n",
       "\n",
       "    .dataframe tbody tr th {\n",
       "        vertical-align: top;\n",
       "    }\n",
       "\n",
       "    .dataframe thead th {\n",
       "        text-align: right;\n",
       "    }\n",
       "</style>\n",
       "<table border=\"1\" class=\"dataframe\">\n",
       "  <thead>\n",
       "    <tr style=\"text-align: right;\">\n",
       "      <th></th>\n",
       "      <th>age</th>\n",
       "      <th>weight</th>\n",
       "    </tr>\n",
       "    <tr>\n",
       "      <th>university</th>\n",
       "      <th></th>\n",
       "      <th></th>\n",
       "    </tr>\n",
       "  </thead>\n",
       "  <tbody>\n",
       "    <tr>\n",
       "      <th>Gothenburg</th>\n",
       "      <td>33.641589</td>\n",
       "      <td>87.467976</td>\n",
       "    </tr>\n",
       "    <tr>\n",
       "      <th>Lund</th>\n",
       "      <td>32.405530</td>\n",
       "      <td>93.081337</td>\n",
       "    </tr>\n",
       "    <tr>\n",
       "      <th>Unseen</th>\n",
       "      <td>29.426499</td>\n",
       "      <td>72.210458</td>\n",
       "    </tr>\n",
       "  </tbody>\n",
       "</table>\n",
       "</div>"
      ],
      "text/plain": [
       "                  age     weight\n",
       "university                      \n",
       "Gothenburg  33.641589  87.467976\n",
       "Lund        32.405530  93.081337\n",
       "Unseen      29.426499  72.210458"
      ]
     },
     "execution_count": 59,
     "metadata": {},
     "output_type": "execute_result"
    }
   ],
   "source": [
    "df.groupby(\"university\").mean()"
   ]
  },
  {
   "cell_type": "code",
   "execution_count": 60,
   "metadata": {},
   "outputs": [
    {
     "data": {
      "text/html": [
       "<div>\n",
       "<style scoped>\n",
       "    .dataframe tbody tr th:only-of-type {\n",
       "        vertical-align: middle;\n",
       "    }\n",
       "\n",
       "    .dataframe tbody tr th {\n",
       "        vertical-align: top;\n",
       "    }\n",
       "\n",
       "    .dataframe thead th {\n",
       "        text-align: right;\n",
       "    }\n",
       "</style>\n",
       "<table border=\"1\" class=\"dataframe\">\n",
       "  <thead>\n",
       "    <tr style=\"text-align: right;\">\n",
       "      <th></th>\n",
       "      <th>age</th>\n",
       "      <th>weight</th>\n",
       "    </tr>\n",
       "    <tr>\n",
       "      <th>university</th>\n",
       "      <th></th>\n",
       "      <th></th>\n",
       "    </tr>\n",
       "  </thead>\n",
       "  <tbody>\n",
       "    <tr>\n",
       "      <th>Gothenburg</th>\n",
       "      <td>9.667624</td>\n",
       "      <td>24.183402</td>\n",
       "    </tr>\n",
       "    <tr>\n",
       "      <th>Lund</th>\n",
       "      <td>12.991208</td>\n",
       "      <td>12.554924</td>\n",
       "    </tr>\n",
       "    <tr>\n",
       "      <th>Unseen</th>\n",
       "      <td>6.947232</td>\n",
       "      <td>34.784775</td>\n",
       "    </tr>\n",
       "  </tbody>\n",
       "</table>\n",
       "</div>"
      ],
      "text/plain": [
       "                  age     weight\n",
       "university                      \n",
       "Gothenburg   9.667624  24.183402\n",
       "Lund        12.991208  12.554924\n",
       "Unseen       6.947232  34.784775"
      ]
     },
     "execution_count": 60,
     "metadata": {},
     "output_type": "execute_result"
    }
   ],
   "source": [
    "df.groupby(\"university\").std()"
   ]
  },
  {
   "cell_type": "code",
   "execution_count": 61,
   "metadata": {},
   "outputs": [
    {
     "data": {
      "text/html": [
       "<div>\n",
       "<style scoped>\n",
       "    .dataframe tbody tr th:only-of-type {\n",
       "        vertical-align: middle;\n",
       "    }\n",
       "\n",
       "    .dataframe tbody tr th {\n",
       "        vertical-align: top;\n",
       "    }\n",
       "\n",
       "    .dataframe thead th {\n",
       "        text-align: right;\n",
       "    }\n",
       "</style>\n",
       "<table border=\"1\" class=\"dataframe\">\n",
       "  <thead>\n",
       "    <tr style=\"text-align: right;\">\n",
       "      <th></th>\n",
       "      <th>names</th>\n",
       "      <th>age</th>\n",
       "      <th>weight</th>\n",
       "      <th>university</th>\n",
       "    </tr>\n",
       "  </thead>\n",
       "  <tbody>\n",
       "    <tr>\n",
       "      <th>A</th>\n",
       "      <td>Jim</td>\n",
       "      <td>39.413893</td>\n",
       "      <td>63.998811</td>\n",
       "      <td>Unseen</td>\n",
       "    </tr>\n",
       "    <tr>\n",
       "      <th>B</th>\n",
       "      <td>Jane</td>\n",
       "      <td>32.020081</td>\n",
       "      <td>68.924198</td>\n",
       "      <td>Gothenburg</td>\n",
       "    </tr>\n",
       "    <tr>\n",
       "      <th>C</th>\n",
       "      <td>Alice</td>\n",
       "      <td>41.591701</td>\n",
       "      <td>101.959008</td>\n",
       "      <td>Lund</td>\n",
       "    </tr>\n",
       "    <tr>\n",
       "      <th>D</th>\n",
       "      <td>Bob</td>\n",
       "      <td>44.017436</td>\n",
       "      <td>78.658573</td>\n",
       "      <td>Gothenburg</td>\n",
       "    </tr>\n",
       "    <tr>\n",
       "      <th>E</th>\n",
       "      <td>Ekman</td>\n",
       "      <td>25.221935</td>\n",
       "      <td>73.739336</td>\n",
       "      <td>Unseen</td>\n",
       "    </tr>\n",
       "    <tr>\n",
       "      <th>I</th>\n",
       "      <td>McBoaty</td>\n",
       "      <td>31.030534</td>\n",
       "      <td>120.294309</td>\n",
       "      <td>Unseen</td>\n",
       "    </tr>\n",
       "    <tr>\n",
       "      <th>J</th>\n",
       "      <td>Earle</td>\n",
       "      <td>30.517096</td>\n",
       "      <td>23.216171</td>\n",
       "      <td>Unseen</td>\n",
       "    </tr>\n",
       "  </tbody>\n",
       "</table>\n",
       "</div>"
      ],
      "text/plain": [
       "     names        age      weight  university\n",
       "A      Jim  39.413893   63.998811      Unseen\n",
       "B     Jane  32.020081   68.924198  Gothenburg\n",
       "C    Alice  41.591701  101.959008        Lund\n",
       "D      Bob  44.017436   78.658573  Gothenburg\n",
       "E    Ekman  25.221935   73.739336      Unseen\n",
       "I  McBoaty  31.030534  120.294309      Unseen\n",
       "J    Earle  30.517096   23.216171      Unseen"
      ]
     },
     "execution_count": 61,
     "metadata": {},
     "output_type": "execute_result"
    }
   ],
   "source": [
    "df.loc[df[\"age\"] > 25]"
   ]
  },
  {
   "cell_type": "code",
   "execution_count": 62,
   "metadata": {},
   "outputs": [
    {
     "data": {
      "text/plain": [
       "A        Jim\n",
       "B       Jane\n",
       "C      Alice\n",
       "D        Bob\n",
       "E      Ekman\n",
       "I    McBoaty\n",
       "J      Earle\n",
       "Name: names, dtype: object"
      ]
     },
     "execution_count": 62,
     "metadata": {},
     "output_type": "execute_result"
    }
   ],
   "source": [
    "df.loc[df[\"age\"] > 25, \"names\"]"
   ]
  },
  {
   "cell_type": "code",
   "execution_count": 63,
   "metadata": {},
   "outputs": [
    {
     "data": {
      "text/plain": [
       "A     79.998513\n",
       "B     86.155247\n",
       "C    127.448760\n",
       "D     98.323216\n",
       "E     92.174171\n",
       "I    150.367886\n",
       "J     29.020214\n",
       "Name: weight, dtype: float64"
      ]
     },
     "execution_count": 63,
     "metadata": {},
     "output_type": "execute_result"
    }
   ],
   "source": [
    "df.loc[df[\"age\"] > 25, \"weight\"] * 1.25"
   ]
  },
  {
   "cell_type": "code",
   "execution_count": 64,
   "metadata": {},
   "outputs": [],
   "source": [
    "df.loc[df[\"age\"] > 25, \"weight\"] = df.loc[df[\"age\"] > 25, \"weight\"] * 1.25"
   ]
  },
  {
   "cell_type": "code",
   "execution_count": 65,
   "metadata": {},
   "outputs": [
    {
     "data": {
      "text/html": [
       "<div>\n",
       "<style scoped>\n",
       "    .dataframe tbody tr th:only-of-type {\n",
       "        vertical-align: middle;\n",
       "    }\n",
       "\n",
       "    .dataframe tbody tr th {\n",
       "        vertical-align: top;\n",
       "    }\n",
       "\n",
       "    .dataframe thead th {\n",
       "        text-align: right;\n",
       "    }\n",
       "</style>\n",
       "<table border=\"1\" class=\"dataframe\">\n",
       "  <thead>\n",
       "    <tr style=\"text-align: right;\">\n",
       "      <th></th>\n",
       "      <th>names</th>\n",
       "      <th>age</th>\n",
       "      <th>weight</th>\n",
       "      <th>university</th>\n",
       "    </tr>\n",
       "  </thead>\n",
       "  <tbody>\n",
       "    <tr>\n",
       "      <th>A</th>\n",
       "      <td>Jim</td>\n",
       "      <td>39.413893</td>\n",
       "      <td>79.998513</td>\n",
       "      <td>Unseen</td>\n",
       "    </tr>\n",
       "    <tr>\n",
       "      <th>B</th>\n",
       "      <td>Jane</td>\n",
       "      <td>32.020081</td>\n",
       "      <td>86.155247</td>\n",
       "      <td>Gothenburg</td>\n",
       "    </tr>\n",
       "    <tr>\n",
       "      <th>C</th>\n",
       "      <td>Alice</td>\n",
       "      <td>41.591701</td>\n",
       "      <td>127.448760</td>\n",
       "      <td>Lund</td>\n",
       "    </tr>\n",
       "    <tr>\n",
       "      <th>D</th>\n",
       "      <td>Bob</td>\n",
       "      <td>44.017436</td>\n",
       "      <td>98.323216</td>\n",
       "      <td>Gothenburg</td>\n",
       "    </tr>\n",
       "    <tr>\n",
       "      <th>E</th>\n",
       "      <td>Ekman</td>\n",
       "      <td>25.221935</td>\n",
       "      <td>92.174171</td>\n",
       "      <td>Unseen</td>\n",
       "    </tr>\n",
       "    <tr>\n",
       "      <th>F</th>\n",
       "      <td>Munk</td>\n",
       "      <td>20.949035</td>\n",
       "      <td>79.803662</td>\n",
       "      <td>Unseen</td>\n",
       "    </tr>\n",
       "    <tr>\n",
       "      <th>G</th>\n",
       "      <td>Nansen</td>\n",
       "      <td>23.219359</td>\n",
       "      <td>84.203665</td>\n",
       "      <td>Lund</td>\n",
       "    </tr>\n",
       "    <tr>\n",
       "      <th>H</th>\n",
       "      <td>Tharp</td>\n",
       "      <td>24.887251</td>\n",
       "      <td>114.821157</td>\n",
       "      <td>Gothenburg</td>\n",
       "    </tr>\n",
       "    <tr>\n",
       "      <th>I</th>\n",
       "      <td>McBoaty</td>\n",
       "      <td>31.030534</td>\n",
       "      <td>150.367886</td>\n",
       "      <td>Unseen</td>\n",
       "    </tr>\n",
       "    <tr>\n",
       "      <th>J</th>\n",
       "      <td>Earle</td>\n",
       "      <td>30.517096</td>\n",
       "      <td>29.020214</td>\n",
       "      <td>Unseen</td>\n",
       "    </tr>\n",
       "  </tbody>\n",
       "</table>\n",
       "</div>"
      ],
      "text/plain": [
       "     names        age      weight  university\n",
       "A      Jim  39.413893   79.998513      Unseen\n",
       "B     Jane  32.020081   86.155247  Gothenburg\n",
       "C    Alice  41.591701  127.448760        Lund\n",
       "D      Bob  44.017436   98.323216  Gothenburg\n",
       "E    Ekman  25.221935   92.174171      Unseen\n",
       "F     Munk  20.949035   79.803662      Unseen\n",
       "G   Nansen  23.219359   84.203665        Lund\n",
       "H    Tharp  24.887251  114.821157  Gothenburg\n",
       "I  McBoaty  31.030534  150.367886      Unseen\n",
       "J    Earle  30.517096   29.020214      Unseen"
      ]
     },
     "execution_count": 65,
     "metadata": {},
     "output_type": "execute_result"
    }
   ],
   "source": [
    "df"
   ]
  },
  {
   "cell_type": "markdown",
   "metadata": {},
   "source": [
    "#### You can define your own functions and perform operations on grouped dataframes using \"apply\"\n",
    "\n",
    "Let's say that a magical accident ages everyone at Unseen University by 25 years, we can update our dataframe by grouping it by \"university\" and then adding 25 years to the ages of those in UU."
   ]
  },
  {
   "cell_type": "code",
   "execution_count": 66,
   "metadata": {},
   "outputs": [],
   "source": [
    "def increase_age(gdf, addYears=25):\n",
    "    if gdf.university[0] == \"Unseen\": # conditional statement to perform the operation only on Unseen University members\n",
    "        gdf.loc[:, \"age\"] = gdf[\"age\"] + addYears\n",
    "    return gdf"
   ]
  },
  {
   "cell_type": "code",
   "execution_count": 67,
   "metadata": {},
   "outputs": [],
   "source": [
    "df = df.groupby(\"university\").apply(increase_age)"
   ]
  },
  {
   "cell_type": "code",
   "execution_count": 68,
   "metadata": {},
   "outputs": [
    {
     "data": {
      "text/html": [
       "<div>\n",
       "<style scoped>\n",
       "    .dataframe tbody tr th:only-of-type {\n",
       "        vertical-align: middle;\n",
       "    }\n",
       "\n",
       "    .dataframe tbody tr th {\n",
       "        vertical-align: top;\n",
       "    }\n",
       "\n",
       "    .dataframe thead th {\n",
       "        text-align: right;\n",
       "    }\n",
       "</style>\n",
       "<table border=\"1\" class=\"dataframe\">\n",
       "  <thead>\n",
       "    <tr style=\"text-align: right;\">\n",
       "      <th></th>\n",
       "      <th>names</th>\n",
       "      <th>age</th>\n",
       "      <th>weight</th>\n",
       "      <th>university</th>\n",
       "    </tr>\n",
       "  </thead>\n",
       "  <tbody>\n",
       "    <tr>\n",
       "      <th>A</th>\n",
       "      <td>Jim</td>\n",
       "      <td>64.413893</td>\n",
       "      <td>79.998513</td>\n",
       "      <td>Unseen</td>\n",
       "    </tr>\n",
       "    <tr>\n",
       "      <th>B</th>\n",
       "      <td>Jane</td>\n",
       "      <td>32.020081</td>\n",
       "      <td>86.155247</td>\n",
       "      <td>Gothenburg</td>\n",
       "    </tr>\n",
       "    <tr>\n",
       "      <th>C</th>\n",
       "      <td>Alice</td>\n",
       "      <td>41.591701</td>\n",
       "      <td>127.448760</td>\n",
       "      <td>Lund</td>\n",
       "    </tr>\n",
       "    <tr>\n",
       "      <th>D</th>\n",
       "      <td>Bob</td>\n",
       "      <td>44.017436</td>\n",
       "      <td>98.323216</td>\n",
       "      <td>Gothenburg</td>\n",
       "    </tr>\n",
       "    <tr>\n",
       "      <th>E</th>\n",
       "      <td>Ekman</td>\n",
       "      <td>50.221935</td>\n",
       "      <td>92.174171</td>\n",
       "      <td>Unseen</td>\n",
       "    </tr>\n",
       "    <tr>\n",
       "      <th>F</th>\n",
       "      <td>Munk</td>\n",
       "      <td>45.949035</td>\n",
       "      <td>79.803662</td>\n",
       "      <td>Unseen</td>\n",
       "    </tr>\n",
       "    <tr>\n",
       "      <th>G</th>\n",
       "      <td>Nansen</td>\n",
       "      <td>23.219359</td>\n",
       "      <td>84.203665</td>\n",
       "      <td>Lund</td>\n",
       "    </tr>\n",
       "    <tr>\n",
       "      <th>H</th>\n",
       "      <td>Tharp</td>\n",
       "      <td>24.887251</td>\n",
       "      <td>114.821157</td>\n",
       "      <td>Gothenburg</td>\n",
       "    </tr>\n",
       "    <tr>\n",
       "      <th>I</th>\n",
       "      <td>McBoaty</td>\n",
       "      <td>56.030534</td>\n",
       "      <td>150.367886</td>\n",
       "      <td>Unseen</td>\n",
       "    </tr>\n",
       "    <tr>\n",
       "      <th>J</th>\n",
       "      <td>Earle</td>\n",
       "      <td>55.517096</td>\n",
       "      <td>29.020214</td>\n",
       "      <td>Unseen</td>\n",
       "    </tr>\n",
       "  </tbody>\n",
       "</table>\n",
       "</div>"
      ],
      "text/plain": [
       "     names        age      weight  university\n",
       "A      Jim  64.413893   79.998513      Unseen\n",
       "B     Jane  32.020081   86.155247  Gothenburg\n",
       "C    Alice  41.591701  127.448760        Lund\n",
       "D      Bob  44.017436   98.323216  Gothenburg\n",
       "E    Ekman  50.221935   92.174171      Unseen\n",
       "F     Munk  45.949035   79.803662      Unseen\n",
       "G   Nansen  23.219359   84.203665        Lund\n",
       "H    Tharp  24.887251  114.821157  Gothenburg\n",
       "I  McBoaty  56.030534  150.367886      Unseen\n",
       "J    Earle  55.517096   29.020214      Unseen"
      ]
     },
     "execution_count": 68,
     "metadata": {},
     "output_type": "execute_result"
    }
   ],
   "source": [
    "df"
   ]
  },
  {
   "cell_type": "code",
   "execution_count": 69,
   "metadata": {},
   "outputs": [
    {
     "data": {
      "text/html": [
       "<div>\n",
       "<style scoped>\n",
       "    .dataframe tbody tr th:only-of-type {\n",
       "        vertical-align: middle;\n",
       "    }\n",
       "\n",
       "    .dataframe tbody tr th {\n",
       "        vertical-align: top;\n",
       "    }\n",
       "\n",
       "    .dataframe thead th {\n",
       "        text-align: right;\n",
       "    }\n",
       "</style>\n",
       "<table border=\"1\" class=\"dataframe\">\n",
       "  <thead>\n",
       "    <tr style=\"text-align: right;\">\n",
       "      <th></th>\n",
       "      <th>names</th>\n",
       "      <th>age</th>\n",
       "      <th>weight</th>\n",
       "      <th>university</th>\n",
       "    </tr>\n",
       "    <tr>\n",
       "      <th>age</th>\n",
       "      <th></th>\n",
       "      <th></th>\n",
       "      <th></th>\n",
       "      <th></th>\n",
       "    </tr>\n",
       "  </thead>\n",
       "  <tbody>\n",
       "    <tr>\n",
       "      <th>(20, 30]</th>\n",
       "      <td>2</td>\n",
       "      <td>2</td>\n",
       "      <td>2</td>\n",
       "      <td>2</td>\n",
       "    </tr>\n",
       "    <tr>\n",
       "      <th>(30, 40]</th>\n",
       "      <td>1</td>\n",
       "      <td>1</td>\n",
       "      <td>1</td>\n",
       "      <td>1</td>\n",
       "    </tr>\n",
       "    <tr>\n",
       "      <th>(40, 50]</th>\n",
       "      <td>3</td>\n",
       "      <td>3</td>\n",
       "      <td>3</td>\n",
       "      <td>3</td>\n",
       "    </tr>\n",
       "    <tr>\n",
       "      <th>(50, 60]</th>\n",
       "      <td>3</td>\n",
       "      <td>3</td>\n",
       "      <td>3</td>\n",
       "      <td>3</td>\n",
       "    </tr>\n",
       "    <tr>\n",
       "      <th>(60, 70]</th>\n",
       "      <td>1</td>\n",
       "      <td>1</td>\n",
       "      <td>1</td>\n",
       "      <td>1</td>\n",
       "    </tr>\n",
       "  </tbody>\n",
       "</table>\n",
       "</div>"
      ],
      "text/plain": [
       "          names  age  weight  university\n",
       "age                                     \n",
       "(20, 30]      2    2       2           2\n",
       "(30, 40]      1    1       1           1\n",
       "(40, 50]      3    3       3           3\n",
       "(50, 60]      3    3       3           3\n",
       "(60, 70]      1    1       1           1"
      ]
     },
     "execution_count": 69,
     "metadata": {},
     "output_type": "execute_result"
    }
   ],
   "source": [
    "df.groupby(pd.cut(df[\"age\"], [20,30,40,50,60,70])).count()"
   ]
  },
  {
   "cell_type": "markdown",
   "metadata": {},
   "source": [
    "pd.cut() function allows us to bin the data. You pass the column followed by the bins and then call a function that operates on the grouped dataframe."
   ]
  },
  {
   "cell_type": "markdown",
   "metadata": {},
   "source": [
    "### Exercise 05: Practise groupby operations\n",
    "\n",
    "1. Groupby university name and use the following functions: count, mean, std, describe\n",
    "1. Groupby weight, binned in (0,50], (50, 100], (100,150], (150, 200] bins and call the count and mean functions.\n",
    "1. Can you draw a flowchart describing the groupby() and apply() operation? Discuss this with your group members!"
   ]
  },
  {
   "cell_type": "code",
   "execution_count": null,
   "metadata": {},
   "outputs": [],
   "source": []
  }
 ],
 "metadata": {
  "kernelspec": {
   "display_name": "Python 3 (ipykernel)",
   "language": "python",
   "name": "python3"
  },
  "language_info": {
   "codemirror_mode": {
    "name": "ipython",
    "version": 3
   },
   "file_extension": ".py",
   "mimetype": "text/x-python",
   "name": "python",
   "nbconvert_exporter": "python",
   "pygments_lexer": "ipython3",
   "version": "3.9.16"
  }
 },
 "nbformat": 4,
 "nbformat_minor": 4
}
