{
 "cells": [
  {
   "cell_type": "code",
   "execution_count": 1,
   "metadata": {},
   "outputs": [],
   "source": [
    "import pandas as pd\n",
    "import numpy as np\n",
    "import matplotlib.pyplot as plt"
   ]
  },
  {
   "cell_type": "code",
   "execution_count": 2,
   "metadata": {},
   "outputs": [],
   "source": [
    "ds = pd.Series([1.0, 3.5, 4.6, 7.8])"
   ]
  },
  {
   "cell_type": "code",
   "execution_count": 3,
   "metadata": {},
   "outputs": [
    {
     "data": {
      "text/plain": [
       "0    1.0\n",
       "1    3.5\n",
       "2    4.6\n",
       "3    7.8\n",
       "dtype: float64"
      ]
     },
     "execution_count": 3,
     "metadata": {},
     "output_type": "execute_result"
    }
   ],
   "source": [
    "ds"
   ]
  },
  {
   "cell_type": "code",
   "execution_count": 5,
   "metadata": {},
   "outputs": [
    {
     "data": {
      "text/plain": [
       "3.5"
      ]
     },
     "execution_count": 5,
     "metadata": {},
     "output_type": "execute_result"
    }
   ],
   "source": [
    "ds[1]"
   ]
  },
  {
   "cell_type": "code",
   "execution_count": null,
   "metadata": {},
   "outputs": [],
   "source": [
    "np.random.randn(10)"
   ]
  },
  {
   "cell_type": "code",
   "execution_count": 6,
   "metadata": {},
   "outputs": [
    {
     "data": {
      "text/plain": [
       "array([25.39319826, 37.84345454, 19.30892857, 28.56567259, 13.00882304,\n",
       "       41.67110822, 18.97112709, 23.36984051, 31.80170611, 28.82979712])"
      ]
     },
     "execution_count": 6,
     "metadata": {},
     "output_type": "execute_result"
    }
   ],
   "source": [
    "np.random.randn(10)*10 + 30"
   ]
  },
  {
   "cell_type": "code",
   "execution_count": 9,
   "metadata": {},
   "outputs": [],
   "source": [
    "df = pd.DataFrame( {\"names\":[\"Samudra\", \"Sagar\", \"Alice\", \"Bob\", \"Ekman\", \"Munk\", \"Sindhu\", \"Tharp\", \"McBoaty\", \"Earle\"], \n",
    "                    \"age\": np.random.randn(10)*10 + 30, \n",
    "                    \"weight\":np.random.randn(10)*25 + 75, \n",
    "                    \"university\":[\"Unseen\", \"Mangalore\", \"Goa\", \"Mangalore\", \"Unseen\", \"Unseen\", \"Goa\", \"Mangalore\", \"Unseen\", \"Unseen\"]},\n",
    "                 index=[\"A\", \"B\", \"C\", \"D\", \"E\", \"F\", \"G\", \"H\", \"I\", \"J\"])\n",
    "\n",
    "#"
   ]
  },
  {
   "cell_type": "code",
   "execution_count": 10,
   "metadata": {},
   "outputs": [
    {
     "data": {
      "text/html": [
       "<div>\n",
       "<style scoped>\n",
       "    .dataframe tbody tr th:only-of-type {\n",
       "        vertical-align: middle;\n",
       "    }\n",
       "\n",
       "    .dataframe tbody tr th {\n",
       "        vertical-align: top;\n",
       "    }\n",
       "\n",
       "    .dataframe thead th {\n",
       "        text-align: right;\n",
       "    }\n",
       "</style>\n",
       "<table border=\"1\" class=\"dataframe\">\n",
       "  <thead>\n",
       "    <tr style=\"text-align: right;\">\n",
       "      <th></th>\n",
       "      <th>names</th>\n",
       "      <th>age</th>\n",
       "      <th>weight</th>\n",
       "      <th>university</th>\n",
       "    </tr>\n",
       "  </thead>\n",
       "  <tbody>\n",
       "    <tr>\n",
       "      <th>A</th>\n",
       "      <td>Samudra</td>\n",
       "      <td>17.754797</td>\n",
       "      <td>55.178252</td>\n",
       "      <td>Unseen</td>\n",
       "    </tr>\n",
       "    <tr>\n",
       "      <th>B</th>\n",
       "      <td>Sagar</td>\n",
       "      <td>33.991695</td>\n",
       "      <td>86.186562</td>\n",
       "      <td>Mangalore</td>\n",
       "    </tr>\n",
       "    <tr>\n",
       "      <th>C</th>\n",
       "      <td>Alice</td>\n",
       "      <td>23.096815</td>\n",
       "      <td>53.491667</td>\n",
       "      <td>Goa</td>\n",
       "    </tr>\n",
       "    <tr>\n",
       "      <th>D</th>\n",
       "      <td>Bob</td>\n",
       "      <td>35.695195</td>\n",
       "      <td>129.501552</td>\n",
       "      <td>Mangalore</td>\n",
       "    </tr>\n",
       "    <tr>\n",
       "      <th>E</th>\n",
       "      <td>Ekman</td>\n",
       "      <td>27.835256</td>\n",
       "      <td>62.327465</td>\n",
       "      <td>Unseen</td>\n",
       "    </tr>\n",
       "    <tr>\n",
       "      <th>F</th>\n",
       "      <td>Munk</td>\n",
       "      <td>35.457222</td>\n",
       "      <td>95.887130</td>\n",
       "      <td>Unseen</td>\n",
       "    </tr>\n",
       "    <tr>\n",
       "      <th>G</th>\n",
       "      <td>Sindhu</td>\n",
       "      <td>30.569853</td>\n",
       "      <td>67.007399</td>\n",
       "      <td>Goa</td>\n",
       "    </tr>\n",
       "    <tr>\n",
       "      <th>H</th>\n",
       "      <td>Tharp</td>\n",
       "      <td>27.798669</td>\n",
       "      <td>79.685803</td>\n",
       "      <td>Mangalore</td>\n",
       "    </tr>\n",
       "    <tr>\n",
       "      <th>I</th>\n",
       "      <td>McBoaty</td>\n",
       "      <td>33.280810</td>\n",
       "      <td>122.679363</td>\n",
       "      <td>Unseen</td>\n",
       "    </tr>\n",
       "    <tr>\n",
       "      <th>J</th>\n",
       "      <td>Earle</td>\n",
       "      <td>34.655369</td>\n",
       "      <td>81.417911</td>\n",
       "      <td>Unseen</td>\n",
       "    </tr>\n",
       "  </tbody>\n",
       "</table>\n",
       "</div>"
      ],
      "text/plain": [
       "     names        age      weight university\n",
       "A  Samudra  17.754797   55.178252     Unseen\n",
       "B    Sagar  33.991695   86.186562  Mangalore\n",
       "C    Alice  23.096815   53.491667        Goa\n",
       "D      Bob  35.695195  129.501552  Mangalore\n",
       "E    Ekman  27.835256   62.327465     Unseen\n",
       "F     Munk  35.457222   95.887130     Unseen\n",
       "G   Sindhu  30.569853   67.007399        Goa\n",
       "H    Tharp  27.798669   79.685803  Mangalore\n",
       "I  McBoaty  33.280810  122.679363     Unseen\n",
       "J    Earle  34.655369   81.417911     Unseen"
      ]
     },
     "execution_count": 10,
     "metadata": {},
     "output_type": "execute_result"
    }
   ],
   "source": [
    "df"
   ]
  },
  {
   "cell_type": "code",
   "execution_count": 11,
   "metadata": {},
   "outputs": [
    {
     "data": {
      "text/plain": [
       "Index(['names', 'age', 'weight', 'university'], dtype='object')"
      ]
     },
     "execution_count": 11,
     "metadata": {},
     "output_type": "execute_result"
    }
   ],
   "source": [
    "df.columns"
   ]
  },
  {
   "cell_type": "code",
   "execution_count": 12,
   "metadata": {},
   "outputs": [
    {
     "data": {
      "text/plain": [
       "Index(['A', 'B', 'C', 'D', 'E', 'F', 'G', 'H', 'I', 'J'], dtype='object')"
      ]
     },
     "execution_count": 12,
     "metadata": {},
     "output_type": "execute_result"
    }
   ],
   "source": [
    "df.index"
   ]
  },
  {
   "cell_type": "code",
   "execution_count": 19,
   "metadata": {},
   "outputs": [
    {
     "data": {
      "text/plain": [
       "A    Samudra\n",
       "B      Sagar\n",
       "C      Alice\n",
       "D        Bob\n",
       "E      Ekman\n",
       "Name: names, dtype: object"
      ]
     },
     "execution_count": 19,
     "metadata": {},
     "output_type": "execute_result"
    }
   ],
   "source": [
    "df.iloc[0:5][\"names\"]"
   ]
  },
  {
   "cell_type": "code",
   "execution_count": 20,
   "metadata": {},
   "outputs": [
    {
     "data": {
      "text/plain": [
       "A    17.754797\n",
       "J    34.655369\n",
       "Name: age, dtype: float64"
      ]
     },
     "execution_count": 20,
     "metadata": {},
     "output_type": "execute_result"
    }
   ],
   "source": [
    "df.loc[[\"A\",\"J\"], \"age\"]"
   ]
  },
  {
   "cell_type": "code",
   "execution_count": 21,
   "metadata": {},
   "outputs": [
    {
     "data": {
      "text/html": [
       "<div>\n",
       "<style scoped>\n",
       "    .dataframe tbody tr th:only-of-type {\n",
       "        vertical-align: middle;\n",
       "    }\n",
       "\n",
       "    .dataframe tbody tr th {\n",
       "        vertical-align: top;\n",
       "    }\n",
       "\n",
       "    .dataframe thead th {\n",
       "        text-align: right;\n",
       "    }\n",
       "</style>\n",
       "<table border=\"1\" class=\"dataframe\">\n",
       "  <thead>\n",
       "    <tr style=\"text-align: right;\">\n",
       "      <th></th>\n",
       "      <th>names</th>\n",
       "      <th>age</th>\n",
       "      <th>weight</th>\n",
       "      <th>university</th>\n",
       "    </tr>\n",
       "  </thead>\n",
       "  <tbody>\n",
       "    <tr>\n",
       "      <th>A</th>\n",
       "      <td>Samudra</td>\n",
       "      <td>17.754797</td>\n",
       "      <td>55.178252</td>\n",
       "      <td>Unseen</td>\n",
       "    </tr>\n",
       "    <tr>\n",
       "      <th>J</th>\n",
       "      <td>Earle</td>\n",
       "      <td>34.655369</td>\n",
       "      <td>81.417911</td>\n",
       "      <td>Unseen</td>\n",
       "    </tr>\n",
       "  </tbody>\n",
       "</table>\n",
       "</div>"
      ],
      "text/plain": [
       "     names        age     weight university\n",
       "A  Samudra  17.754797  55.178252     Unseen\n",
       "J    Earle  34.655369  81.417911     Unseen"
      ]
     },
     "execution_count": 21,
     "metadata": {},
     "output_type": "execute_result"
    }
   ],
   "source": [
    "df.iloc[[0, 9]]"
   ]
  },
  {
   "cell_type": "markdown",
   "metadata": {},
   "source": [
    "#### Defining your own index, rather than the default index of 0...N may be useful when you need to organize data logically, for example time series data can use the time as index\n",
    "But luckily, you also have access to the 0...N index by using the \"iloc\" selector"
   ]
  },
  {
   "cell_type": "code",
   "execution_count": 23,
   "metadata": {},
   "outputs": [
    {
     "data": {
      "text/plain": [
       "A    17.754797\n",
       "B    33.991695\n",
       "C    23.096815\n",
       "D    35.695195\n",
       "E    27.835256\n",
       "F    35.457222\n",
       "G    30.569853\n",
       "H    27.798669\n",
       "I    33.280810\n",
       "J    34.655369\n",
       "Name: age, dtype: float64"
      ]
     },
     "execution_count": 23,
     "metadata": {},
     "output_type": "execute_result"
    }
   ],
   "source": [
    "df.loc[:, \"age\"]"
   ]
  },
  {
   "cell_type": "code",
   "execution_count": 24,
   "metadata": {},
   "outputs": [
    {
     "data": {
      "text/plain": [
       "array([ 55.17825248,  86.18656232,  53.49166689, 129.50155239,\n",
       "        62.32746525,  95.88712998,  67.00739914,  79.68580283,\n",
       "       122.67936326,  81.41791051])"
      ]
     },
     "execution_count": 24,
     "metadata": {},
     "output_type": "execute_result"
    }
   ],
   "source": [
    "df[\"weight\"].values # .values returns the column as an array"
   ]
  },
  {
   "cell_type": "code",
   "execution_count": 25,
   "metadata": {},
   "outputs": [
    {
     "data": {
      "text/html": [
       "<div>\n",
       "<style scoped>\n",
       "    .dataframe tbody tr th:only-of-type {\n",
       "        vertical-align: middle;\n",
       "    }\n",
       "\n",
       "    .dataframe tbody tr th {\n",
       "        vertical-align: top;\n",
       "    }\n",
       "\n",
       "    .dataframe thead th {\n",
       "        text-align: right;\n",
       "    }\n",
       "</style>\n",
       "<table border=\"1\" class=\"dataframe\">\n",
       "  <thead>\n",
       "    <tr style=\"text-align: right;\">\n",
       "      <th></th>\n",
       "      <th>age</th>\n",
       "      <th>weight</th>\n",
       "    </tr>\n",
       "  </thead>\n",
       "  <tbody>\n",
       "    <tr>\n",
       "      <th>count</th>\n",
       "      <td>10.000000</td>\n",
       "      <td>10.000000</td>\n",
       "    </tr>\n",
       "    <tr>\n",
       "      <th>mean</th>\n",
       "      <td>30.013568</td>\n",
       "      <td>83.336311</td>\n",
       "    </tr>\n",
       "    <tr>\n",
       "      <th>std</th>\n",
       "      <td>5.944560</td>\n",
       "      <td>26.359360</td>\n",
       "    </tr>\n",
       "    <tr>\n",
       "      <th>min</th>\n",
       "      <td>17.754797</td>\n",
       "      <td>53.491667</td>\n",
       "    </tr>\n",
       "    <tr>\n",
       "      <th>25%</th>\n",
       "      <td>27.807816</td>\n",
       "      <td>63.497449</td>\n",
       "    </tr>\n",
       "    <tr>\n",
       "      <th>50%</th>\n",
       "      <td>31.925332</td>\n",
       "      <td>80.551857</td>\n",
       "    </tr>\n",
       "    <tr>\n",
       "      <th>75%</th>\n",
       "      <td>34.489451</td>\n",
       "      <td>93.461988</td>\n",
       "    </tr>\n",
       "    <tr>\n",
       "      <th>max</th>\n",
       "      <td>35.695195</td>\n",
       "      <td>129.501552</td>\n",
       "    </tr>\n",
       "  </tbody>\n",
       "</table>\n",
       "</div>"
      ],
      "text/plain": [
       "             age      weight\n",
       "count  10.000000   10.000000\n",
       "mean   30.013568   83.336311\n",
       "std     5.944560   26.359360\n",
       "min    17.754797   53.491667\n",
       "25%    27.807816   63.497449\n",
       "50%    31.925332   80.551857\n",
       "75%    34.489451   93.461988\n",
       "max    35.695195  129.501552"
      ]
     },
     "execution_count": 25,
     "metadata": {},
     "output_type": "execute_result"
    }
   ],
   "source": [
    "df.describe()"
   ]
  },
  {
   "cell_type": "code",
   "execution_count": 27,
   "metadata": {},
   "outputs": [
    {
     "data": {
      "text/plain": [
       "A       Unseen\n",
       "B    Mangalore\n",
       "C          Goa\n",
       "D    Mangalore\n",
       "E       Unseen\n",
       "F       Unseen\n",
       "G          Goa\n",
       "H    Mangalore\n",
       "I       Unseen\n",
       "J       Unseen\n",
       "Name: university, dtype: object"
      ]
     },
     "execution_count": 27,
     "metadata": {},
     "output_type": "execute_result"
    }
   ],
   "source": [
    "df[\"university\"]"
   ]
  },
  {
   "cell_type": "code",
   "execution_count": 26,
   "metadata": {},
   "outputs": [
    {
     "data": {
      "text/plain": [
       "array(['Unseen', 'Mangalore', 'Goa'], dtype=object)"
      ]
     },
     "execution_count": 26,
     "metadata": {},
     "output_type": "execute_result"
    }
   ],
   "source": [
    "df[\"university\"].unique()"
   ]
  },
  {
   "cell_type": "code",
   "execution_count": 28,
   "metadata": {},
   "outputs": [
    {
     "data": {
      "text/plain": [
       "A     True\n",
       "B    False\n",
       "C    False\n",
       "D    False\n",
       "E     True\n",
       "F     True\n",
       "G    False\n",
       "H    False\n",
       "I     True\n",
       "J     True\n",
       "Name: university, dtype: bool"
      ]
     },
     "execution_count": 28,
     "metadata": {},
     "output_type": "execute_result"
    }
   ],
   "source": [
    "df[\"university\"] == \"Unseen\""
   ]
  },
  {
   "cell_type": "code",
   "execution_count": 29,
   "metadata": {},
   "outputs": [
    {
     "data": {
      "text/html": [
       "<div>\n",
       "<style scoped>\n",
       "    .dataframe tbody tr th:only-of-type {\n",
       "        vertical-align: middle;\n",
       "    }\n",
       "\n",
       "    .dataframe tbody tr th {\n",
       "        vertical-align: top;\n",
       "    }\n",
       "\n",
       "    .dataframe thead th {\n",
       "        text-align: right;\n",
       "    }\n",
       "</style>\n",
       "<table border=\"1\" class=\"dataframe\">\n",
       "  <thead>\n",
       "    <tr style=\"text-align: right;\">\n",
       "      <th></th>\n",
       "      <th>names</th>\n",
       "      <th>age</th>\n",
       "      <th>weight</th>\n",
       "      <th>university</th>\n",
       "    </tr>\n",
       "  </thead>\n",
       "  <tbody>\n",
       "    <tr>\n",
       "      <th>A</th>\n",
       "      <td>Samudra</td>\n",
       "      <td>17.754797</td>\n",
       "      <td>55.178252</td>\n",
       "      <td>Unseen</td>\n",
       "    </tr>\n",
       "    <tr>\n",
       "      <th>E</th>\n",
       "      <td>Ekman</td>\n",
       "      <td>27.835256</td>\n",
       "      <td>62.327465</td>\n",
       "      <td>Unseen</td>\n",
       "    </tr>\n",
       "    <tr>\n",
       "      <th>F</th>\n",
       "      <td>Munk</td>\n",
       "      <td>35.457222</td>\n",
       "      <td>95.887130</td>\n",
       "      <td>Unseen</td>\n",
       "    </tr>\n",
       "    <tr>\n",
       "      <th>I</th>\n",
       "      <td>McBoaty</td>\n",
       "      <td>33.280810</td>\n",
       "      <td>122.679363</td>\n",
       "      <td>Unseen</td>\n",
       "    </tr>\n",
       "    <tr>\n",
       "      <th>J</th>\n",
       "      <td>Earle</td>\n",
       "      <td>34.655369</td>\n",
       "      <td>81.417911</td>\n",
       "      <td>Unseen</td>\n",
       "    </tr>\n",
       "  </tbody>\n",
       "</table>\n",
       "</div>"
      ],
      "text/plain": [
       "     names        age      weight university\n",
       "A  Samudra  17.754797   55.178252     Unseen\n",
       "E    Ekman  27.835256   62.327465     Unseen\n",
       "F     Munk  35.457222   95.887130     Unseen\n",
       "I  McBoaty  33.280810  122.679363     Unseen\n",
       "J    Earle  34.655369   81.417911     Unseen"
      ]
     },
     "execution_count": 29,
     "metadata": {},
     "output_type": "execute_result"
    }
   ],
   "source": [
    "sel_UU = (df[\"university\"] == \"Unseen\")\n",
    "df.loc[sel_UU] # You can use boolean selectors to select slices of the dataframe"
   ]
  },
  {
   "cell_type": "code",
   "execution_count": 35,
   "metadata": {
    "scrolled": true
   },
   "outputs": [
    {
     "data": {
      "text/html": [
       "<div>\n",
       "<style scoped>\n",
       "    .dataframe tbody tr th:only-of-type {\n",
       "        vertical-align: middle;\n",
       "    }\n",
       "\n",
       "    .dataframe tbody tr th {\n",
       "        vertical-align: top;\n",
       "    }\n",
       "\n",
       "    .dataframe thead th {\n",
       "        text-align: right;\n",
       "    }\n",
       "</style>\n",
       "<table border=\"1\" class=\"dataframe\">\n",
       "  <thead>\n",
       "    <tr style=\"text-align: right;\">\n",
       "      <th></th>\n",
       "      <th>weight</th>\n",
       "      <th>age</th>\n",
       "    </tr>\n",
       "    <tr>\n",
       "      <th>university</th>\n",
       "      <th></th>\n",
       "      <th></th>\n",
       "    </tr>\n",
       "  </thead>\n",
       "  <tbody>\n",
       "    <tr>\n",
       "      <th>Goa</th>\n",
       "      <td>60.249533</td>\n",
       "      <td>26.833334</td>\n",
       "    </tr>\n",
       "    <tr>\n",
       "      <th>Mangalore</th>\n",
       "      <td>98.457973</td>\n",
       "      <td>32.495187</td>\n",
       "    </tr>\n",
       "    <tr>\n",
       "      <th>Unseen</th>\n",
       "      <td>83.498024</td>\n",
       "      <td>29.796691</td>\n",
       "    </tr>\n",
       "  </tbody>\n",
       "</table>\n",
       "</div>"
      ],
      "text/plain": [
       "               weight        age\n",
       "university                      \n",
       "Goa         60.249533  26.833334\n",
       "Mangalore   98.457973  32.495187\n",
       "Unseen      83.498024  29.796691"
      ]
     },
     "execution_count": 35,
     "metadata": {},
     "output_type": "execute_result"
    }
   ],
   "source": [
    "df.loc[:, [\"university\", \"weight\", \"age\"]].groupby(\"university\").mean()"
   ]
  },
  {
   "cell_type": "code",
   "execution_count": null,
   "metadata": {},
   "outputs": [],
   "source": [
    "df.loc[:, [\"age\", \"weight\", \"university\"]].groupby(\"university\").mean()"
   ]
  },
  {
   "cell_type": "code",
   "execution_count": 36,
   "metadata": {},
   "outputs": [
    {
     "data": {
      "text/html": [
       "<div>\n",
       "<style scoped>\n",
       "    .dataframe tbody tr th:only-of-type {\n",
       "        vertical-align: middle;\n",
       "    }\n",
       "\n",
       "    .dataframe tbody tr th {\n",
       "        vertical-align: top;\n",
       "    }\n",
       "\n",
       "    .dataframe thead th {\n",
       "        text-align: right;\n",
       "    }\n",
       "</style>\n",
       "<table border=\"1\" class=\"dataframe\">\n",
       "  <thead>\n",
       "    <tr style=\"text-align: right;\">\n",
       "      <th></th>\n",
       "      <th>age</th>\n",
       "      <th>weight</th>\n",
       "    </tr>\n",
       "    <tr>\n",
       "      <th>university</th>\n",
       "      <th></th>\n",
       "      <th></th>\n",
       "    </tr>\n",
       "  </thead>\n",
       "  <tbody>\n",
       "    <tr>\n",
       "      <th>Goa</th>\n",
       "      <td>5.284236</td>\n",
       "      <td>9.557066</td>\n",
       "    </tr>\n",
       "    <tr>\n",
       "      <th>Mangalore</th>\n",
       "      <td>4.155531</td>\n",
       "      <td>27.080304</td>\n",
       "    </tr>\n",
       "    <tr>\n",
       "      <th>Unseen</th>\n",
       "      <td>7.359380</td>\n",
       "      <td>27.125616</td>\n",
       "    </tr>\n",
       "  </tbody>\n",
       "</table>\n",
       "</div>"
      ],
      "text/plain": [
       "                 age     weight\n",
       "university                     \n",
       "Goa         5.284236   9.557066\n",
       "Mangalore   4.155531  27.080304\n",
       "Unseen      7.359380  27.125616"
      ]
     },
     "execution_count": 36,
     "metadata": {},
     "output_type": "execute_result"
    }
   ],
   "source": [
    "df.loc[:, [\"age\", \"weight\", \"university\"]].groupby(\"university\").std()"
   ]
  },
  {
   "cell_type": "code",
   "execution_count": 37,
   "metadata": {},
   "outputs": [
    {
     "data": {
      "text/html": [
       "<div>\n",
       "<style scoped>\n",
       "    .dataframe tbody tr th:only-of-type {\n",
       "        vertical-align: middle;\n",
       "    }\n",
       "\n",
       "    .dataframe tbody tr th {\n",
       "        vertical-align: top;\n",
       "    }\n",
       "\n",
       "    .dataframe thead th {\n",
       "        text-align: right;\n",
       "    }\n",
       "</style>\n",
       "<table border=\"1\" class=\"dataframe\">\n",
       "  <thead>\n",
       "    <tr style=\"text-align: right;\">\n",
       "      <th></th>\n",
       "      <th>names</th>\n",
       "      <th>age</th>\n",
       "      <th>weight</th>\n",
       "      <th>university</th>\n",
       "    </tr>\n",
       "  </thead>\n",
       "  <tbody>\n",
       "    <tr>\n",
       "      <th>B</th>\n",
       "      <td>Sagar</td>\n",
       "      <td>33.991695</td>\n",
       "      <td>86.186562</td>\n",
       "      <td>Mangalore</td>\n",
       "    </tr>\n",
       "    <tr>\n",
       "      <th>D</th>\n",
       "      <td>Bob</td>\n",
       "      <td>35.695195</td>\n",
       "      <td>129.501552</td>\n",
       "      <td>Mangalore</td>\n",
       "    </tr>\n",
       "    <tr>\n",
       "      <th>E</th>\n",
       "      <td>Ekman</td>\n",
       "      <td>27.835256</td>\n",
       "      <td>62.327465</td>\n",
       "      <td>Unseen</td>\n",
       "    </tr>\n",
       "    <tr>\n",
       "      <th>F</th>\n",
       "      <td>Munk</td>\n",
       "      <td>35.457222</td>\n",
       "      <td>95.887130</td>\n",
       "      <td>Unseen</td>\n",
       "    </tr>\n",
       "    <tr>\n",
       "      <th>G</th>\n",
       "      <td>Sindhu</td>\n",
       "      <td>30.569853</td>\n",
       "      <td>67.007399</td>\n",
       "      <td>Goa</td>\n",
       "    </tr>\n",
       "    <tr>\n",
       "      <th>H</th>\n",
       "      <td>Tharp</td>\n",
       "      <td>27.798669</td>\n",
       "      <td>79.685803</td>\n",
       "      <td>Mangalore</td>\n",
       "    </tr>\n",
       "    <tr>\n",
       "      <th>I</th>\n",
       "      <td>McBoaty</td>\n",
       "      <td>33.280810</td>\n",
       "      <td>122.679363</td>\n",
       "      <td>Unseen</td>\n",
       "    </tr>\n",
       "    <tr>\n",
       "      <th>J</th>\n",
       "      <td>Earle</td>\n",
       "      <td>34.655369</td>\n",
       "      <td>81.417911</td>\n",
       "      <td>Unseen</td>\n",
       "    </tr>\n",
       "  </tbody>\n",
       "</table>\n",
       "</div>"
      ],
      "text/plain": [
       "     names        age      weight university\n",
       "B    Sagar  33.991695   86.186562  Mangalore\n",
       "D      Bob  35.695195  129.501552  Mangalore\n",
       "E    Ekman  27.835256   62.327465     Unseen\n",
       "F     Munk  35.457222   95.887130     Unseen\n",
       "G   Sindhu  30.569853   67.007399        Goa\n",
       "H    Tharp  27.798669   79.685803  Mangalore\n",
       "I  McBoaty  33.280810  122.679363     Unseen\n",
       "J    Earle  34.655369   81.417911     Unseen"
      ]
     },
     "execution_count": 37,
     "metadata": {},
     "output_type": "execute_result"
    }
   ],
   "source": [
    "df.loc[df[\"age\"] > 25]"
   ]
  },
  {
   "cell_type": "code",
   "execution_count": 38,
   "metadata": {},
   "outputs": [
    {
     "data": {
      "text/plain": [
       "B      Sagar\n",
       "D        Bob\n",
       "E      Ekman\n",
       "F       Munk\n",
       "G     Sindhu\n",
       "H      Tharp\n",
       "I    McBoaty\n",
       "J      Earle\n",
       "Name: names, dtype: object"
      ]
     },
     "execution_count": 38,
     "metadata": {},
     "output_type": "execute_result"
    }
   ],
   "source": [
    "df.loc[df[\"age\"] > 25, \"names\"]"
   ]
  },
  {
   "cell_type": "code",
   "execution_count": 43,
   "metadata": {},
   "outputs": [
    {
     "data": {
      "text/plain": [
       "A    False\n",
       "B     True\n",
       "C    False\n",
       "D     True\n",
       "E     True\n",
       "F     True\n",
       "G     True\n",
       "H     True\n",
       "I     True\n",
       "J     True\n",
       "Name: age, dtype: bool"
      ]
     },
     "execution_count": 43,
     "metadata": {},
     "output_type": "execute_result"
    }
   ],
   "source": [
    "df[\"age\"] > 25"
   ]
  },
  {
   "cell_type": "code",
   "execution_count": 45,
   "metadata": {},
   "outputs": [
    {
     "data": {
      "text/html": [
       "<div>\n",
       "<style scoped>\n",
       "    .dataframe tbody tr th:only-of-type {\n",
       "        vertical-align: middle;\n",
       "    }\n",
       "\n",
       "    .dataframe tbody tr th {\n",
       "        vertical-align: top;\n",
       "    }\n",
       "\n",
       "    .dataframe thead th {\n",
       "        text-align: right;\n",
       "    }\n",
       "</style>\n",
       "<table border=\"1\" class=\"dataframe\">\n",
       "  <thead>\n",
       "    <tr style=\"text-align: right;\">\n",
       "      <th></th>\n",
       "      <th>names</th>\n",
       "      <th>age</th>\n",
       "      <th>weight</th>\n",
       "      <th>university</th>\n",
       "    </tr>\n",
       "  </thead>\n",
       "  <tbody>\n",
       "    <tr>\n",
       "      <th>B</th>\n",
       "      <td>Sagar</td>\n",
       "      <td>33.991695</td>\n",
       "      <td>86.186562</td>\n",
       "      <td>Mangalore</td>\n",
       "    </tr>\n",
       "    <tr>\n",
       "      <th>D</th>\n",
       "      <td>Bob</td>\n",
       "      <td>35.695195</td>\n",
       "      <td>129.501552</td>\n",
       "      <td>Mangalore</td>\n",
       "    </tr>\n",
       "    <tr>\n",
       "      <th>E</th>\n",
       "      <td>Ekman</td>\n",
       "      <td>27.835256</td>\n",
       "      <td>62.327465</td>\n",
       "      <td>Unseen</td>\n",
       "    </tr>\n",
       "    <tr>\n",
       "      <th>F</th>\n",
       "      <td>Munk</td>\n",
       "      <td>35.457222</td>\n",
       "      <td>95.887130</td>\n",
       "      <td>Unseen</td>\n",
       "    </tr>\n",
       "    <tr>\n",
       "      <th>G</th>\n",
       "      <td>Sindhu</td>\n",
       "      <td>30.569853</td>\n",
       "      <td>67.007399</td>\n",
       "      <td>Goa</td>\n",
       "    </tr>\n",
       "    <tr>\n",
       "      <th>H</th>\n",
       "      <td>Tharp</td>\n",
       "      <td>27.798669</td>\n",
       "      <td>79.685803</td>\n",
       "      <td>Mangalore</td>\n",
       "    </tr>\n",
       "    <tr>\n",
       "      <th>I</th>\n",
       "      <td>McBoaty</td>\n",
       "      <td>33.280810</td>\n",
       "      <td>122.679363</td>\n",
       "      <td>Unseen</td>\n",
       "    </tr>\n",
       "    <tr>\n",
       "      <th>J</th>\n",
       "      <td>Earle</td>\n",
       "      <td>34.655369</td>\n",
       "      <td>81.417911</td>\n",
       "      <td>Unseen</td>\n",
       "    </tr>\n",
       "  </tbody>\n",
       "</table>\n",
       "</div>"
      ],
      "text/plain": [
       "     names        age      weight university\n",
       "B    Sagar  33.991695   86.186562  Mangalore\n",
       "D      Bob  35.695195  129.501552  Mangalore\n",
       "E    Ekman  27.835256   62.327465     Unseen\n",
       "F     Munk  35.457222   95.887130     Unseen\n",
       "G   Sindhu  30.569853   67.007399        Goa\n",
       "H    Tharp  27.798669   79.685803  Mangalore\n",
       "I  McBoaty  33.280810  122.679363     Unseen\n",
       "J    Earle  34.655369   81.417911     Unseen"
      ]
     },
     "execution_count": 45,
     "metadata": {},
     "output_type": "execute_result"
    }
   ],
   "source": [
    "df.loc[df[\"age\"] > 25 ]"
   ]
  },
  {
   "cell_type": "code",
   "execution_count": 46,
   "metadata": {},
   "outputs": [
    {
     "data": {
      "text/plain": [
       "B    107.733203\n",
       "D    161.876940\n",
       "E     77.909332\n",
       "F    119.858912\n",
       "G     83.759249\n",
       "H     99.607254\n",
       "I    153.349204\n",
       "J    101.772388\n",
       "Name: weight, dtype: float64"
      ]
     },
     "execution_count": 46,
     "metadata": {},
     "output_type": "execute_result"
    }
   ],
   "source": [
    "df.loc[df[\"age\"] > 25, \"weight\"] * 1.25"
   ]
  },
  {
   "cell_type": "code",
   "execution_count": null,
   "metadata": {},
   "outputs": [],
   "source": [
    "df.loc[df[\"age\"] > 25, \"weight\"] = df.loc[df[\"age\"] > 25, \"weight\"] * 1.25"
   ]
  },
  {
   "cell_type": "code",
   "execution_count": null,
   "metadata": {},
   "outputs": [],
   "source": [
    "df"
   ]
  },
  {
   "cell_type": "markdown",
   "metadata": {},
   "source": [
    "#### You can define your own functions and perform operations on grouped dataframes using \"apply\"\n",
    "\n",
    "Let's say that a magical accident ages everyone at Unseen University by 25 years, we can update our dataframe by grouping it by \"university\" and then adding 25 years to the ages of those in UU."
   ]
  },
  {
   "cell_type": "code",
   "execution_count": null,
   "metadata": {},
   "outputs": [],
   "source": [
    "def increase_age(gdf, addYears=25):\n",
    "    if gdf.university[0] == \"Unseen\": # conditional statement to perform the operation only on Unseen University members\n",
    "        gdf.loc[:, \"age\"] = gdf[\"age\"] + addYears\n",
    "    return gdf"
   ]
  },
  {
   "cell_type": "code",
   "execution_count": null,
   "metadata": {},
   "outputs": [],
   "source": [
    "df = df.groupby(\"university\").apply(increase_age)"
   ]
  },
  {
   "cell_type": "code",
   "execution_count": null,
   "metadata": {},
   "outputs": [],
   "source": [
    "df"
   ]
  },
  {
   "cell_type": "code",
   "execution_count": null,
   "metadata": {},
   "outputs": [],
   "source": [
    "df.groupby(pd.cut(df[\"age\"], [20,30,40,50,60,70])).count()"
   ]
  },
  {
   "cell_type": "markdown",
   "metadata": {},
   "source": [
    "pd.cut() function allows us to bin the data. You pass the column followed by the bins and then call a function that operates on the grouped dataframe."
   ]
  },
  {
   "cell_type": "markdown",
   "metadata": {},
   "source": [
    "### Exercise 05: Practise groupby operations\n",
    "\n",
    "1. Groupby university name and use the following functions: count, mean, std, describe\n",
    "1. Groupby weight, binned in (0,50], (50, 100], (100,150], (150, 200] bins and call the count and mean functions.\n",
    "1. Can you draw a flowchart describing the groupby() and apply() operation? Discuss this with your group members!"
   ]
  },
  {
   "cell_type": "code",
   "execution_count": null,
   "metadata": {},
   "outputs": [],
   "source": []
  }
 ],
 "metadata": {
  "kernelspec": {
   "display_name": "Python 3 (ipykernel)",
   "language": "python",
   "name": "python3"
  },
  "language_info": {
   "codemirror_mode": {
    "name": "ipython",
    "version": 3
   },
   "file_extension": ".py",
   "mimetype": "text/x-python",
   "name": "python",
   "nbconvert_exporter": "python",
   "pygments_lexer": "ipython3",
   "version": "3.10.9"
  }
 },
 "nbformat": 4,
 "nbformat_minor": 4
}
