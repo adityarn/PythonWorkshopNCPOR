{
 "cells": [
  {
   "cell_type": "markdown",
   "metadata": {},
   "source": [
    "# PythonWorkshopNCPOR\n",
    "\n",
    "## Getting Getting Started\n",
    "\n",
    "Hello Everyone!\n",
    "\n",
    "Welcome to the Python Workshop! This week-long module will introduce you to the basics of using the Python programming language for scientific computing. The workshop will run from the [*insert dates here*]. We will be using the following Webex link: [*insert link here*]\n",
    "\n",
    "We will begin with an introduction to the basics of Python. The module does not assume any prior programming experience or knowledge and is designed to be friendly to absolute beginners. That said, we would also like to provide a challenge, that both beginners and more advanced learners may find interesting! We will introduce the packages in Python that are commonly used in scientific computing and data visualization. The final exercises will involve handling real-life data from the lab and the field! All the material is available on the [Github repository](https://github.com/adityarn/PythonWorkshopNCPOR) in the form of “Python notebooks”. You can view these noteboooks directly on Github. When you download them to your laptop, you will need to [install Python](https://conda.io/projects/conda/en/latest/user-guide/install/index.html) and launch a [Jupyterlab session](https://jupyterlab.readthedocs.io/en/stable/getting_started/installation.html) first before you are able to view them. Please make sure you've also installed necessary packages to your machines, using the environment.yml file provided in this repository.\n",
    "\n",
    "### Recommended Installation Procedure\n",
    "\n",
    "Conda is a package manager that help avoid conflicts between installed Python packages. It can also create virtual environments within which different sets of Python packages may be installed.\n",
    "\n",
    "1. You'll find the installation files for Conda [here](https://conda.io/projects/conda/en/latest/user-guide/install/index.html).\n",
    "2. Once you've installed conda, download the environment.yml file available in the Github repository.\n",
    "3. You can create an environment by opening up the terminal and typing the following code.: ```conda env create -f environment.yml ```\n",
    "4. Next activate your environment: ```conda activate oceanpy```\n",
    "5. You should now have all the packages necessary for the course available within this environment!\n",
    "6. Next, launch jupyterlab in the terminal: ```jupyter lab```\n",
    "7. Your OS will launch Jupyter Lab in your default web browser.\n",
    "8. You can now open any jupyter notebook within Jupyter Lab.\n",
    "\n",
    "Python notebooks are interactive environments where you can write code, visualize the output, and write documentation as well. You can also download all the material needed for the workshop from this Github repository.\n",
    "\n",
    "\n",
    "### Course Syllabus\n",
    "\n",
    "|Day|Topic|\n",
    "|---|---|\n",
    "|1|Pure Python basics -- data types, lists, for loops, conditional statements, functions. How to read documentation on libraries and functions.|\n",
    "|2|Numpy arrays, slicing, efficient vectorized operations versus pure Python operations.|\n",
    "|3|Computation on Numpy arrays, indexing, broadcasting, boolean masks. Intro to Pandas: Series, Dataframes, indexing, selection, boolean selection.|\n",
    "|4| Matplotlib: scatter, line, fill_between, bar, contour, contourf, pcolormesh, quiver. Modifying plot elements: axis labels, legends, axis limits, title, figsize, subplots, gridspec.GridSpec|\n",
    "|5| Introduction to Pandas for data analysis. Analysis of Lagrangian float data.|\n",
    "|6|Pandas contd. -- analysis of Pseudocalanus prosome length.|\n",
    "|7| Gridded datasets: analysis using Xarray, mapping using Cartopy|\n",
    "\n",
    "\n",
    "A great source of reference material for much of the topics that we will cover in the workshop is JakeVanderPlas’ book, Python Data Science Handbook. This book has free Python notebooks too, which you can download and start learning interactively from! You can reach out to me at a.narayanan@soton.ac.uk if you have any questions. I look forward to meeting you all and beginning our Python journey together!\n"
   ]
  },
  {
   "cell_type": "markdown",
   "metadata": {},
   "source": [
    "You should have the following Python notebooks (You can obtain them from the Canvas from the [github repository](https://github.com/adityarn/PythonWorkshopNCPOR/archive/refs/heads/main.zip)):\n",
    "1. 00_PythonBasics.ipynb\n",
    "1. 01_Numpy.ipynb\n",
    "1. 02_NumpyComputation.ipynb\n",
    "1. 03_Matplotlib.ipynb\n",
    "1. 04_Pandas.ipynb\n",
    "1. 05_Pandas.ipynb\n",
    "1. 06_Pandas.ipynb\n",
    "1. install_modules_python3.8.ipynb\n",
    "\n",
    "\n",
    "You should also have these data files:\n",
    "1. ct9-28597-05_ODV.txt\n",
    "1. length_of_pseudocalanus_females.txt\n",
    "\n",
    "### Assignments and grades\n",
    "\n",
    "All exercises in this module are graded as pass/fail assignments. The exercises are found at the end of each Python notebook (except the Matplotlib notebook that does not have any Exercise at the end of it). There will be plenty of opportunity to discuss the assignments with your course instructor and amongst your peers. The exercises are designed to help you learn the intricacies of handling data and visualizing it. Good luck and happy learning!"
   ]
  },
  {
   "cell_type": "markdown",
   "metadata": {},
   "source": [
    "<br></br>\n",
    "#### Why use Python?\n",
    "\n",
    "Python is a high-level language that is easily extendable through the use of modules. \"High-level\" implies that there is a lot of abstraction from what goes on at the lowest level inside the machine. For many users who are not expert programmers, Python allows for an easy entry into the world of programming. Python's design philosophy is to have code that is easily understood (and easy to read).\n",
    "\n",
    "The language is easily extendable through the use of modules that can be imported. This has allowed various communities to develop packages that are specific to their field. The scientific computing packages that are commonly used in Oceanography are:\n",
    "\n",
    "1. Numpy -- allows you to work with arrays and perform matrix operations on them.\n",
    "2. Matplotlib -- Python's visualization library.\n",
    "3. Pandas -- data analysis package.\n",
    "4. Xarray -- gridded climate data analysis package.\n",
    "5. Cartopy -- allows for transforming plot coordinates onto different map projections.\n",
    "\n",
    "And many others that you will start discovering as you begin using Python."
   ]
  },
  {
   "cell_type": "code",
   "execution_count": 1,
   "metadata": {},
   "outputs": [
    {
     "name": "stdout",
     "output_type": "stream",
     "text": [
      "Hello world!\n"
     ]
    }
   ],
   "source": [
    "print(\"Hello world!\")"
   ]
  },
  {
   "cell_type": "markdown",
   "metadata": {},
   "source": [
    "This is a Jupyter notebook. It uses your browser to provide an interactive environment from where you can run Python code. You can simply type in Python code and run it by pressing \"Shift+Enter\", as shown above. To enter into edit mode, you simply click on the cell, or select the cell with your arrow keys and press the return key to enter the \"Edit\" mode, the cursor will appear within the cell and you can type into it. Press \"Esc\" key to exit the \"Edit\" mode.\n",
    "\n",
    "Try running your first code, print out your name below."
   ]
  },
  {
   "cell_type": "code",
   "execution_count": null,
   "metadata": {},
   "outputs": [],
   "source": []
  },
  {
   "cell_type": "code",
   "execution_count": null,
   "metadata": {},
   "outputs": [],
   "source": [
    "# Uncomment, by removing the hash (#) character from the following line to load the solution.\n",
    "# %load ./MAR440/solutions/sol_00_01.py"
   ]
  },
  {
   "cell_type": "markdown",
   "metadata": {},
   "source": [
    "You can have cells that run Python code, or a \"Markdown\" cell that is used for documentation. This is a Markdown cell. To change a cell into code or markdown mode, select it and change the property in the dropdown bar from the toolbar menu on top."
   ]
  },
  {
   "cell_type": "code",
   "execution_count": 2,
   "metadata": {},
   "outputs": [
    {
     "data": {
      "text/plain": [
       "2"
      ]
     },
     "execution_count": 2,
     "metadata": {},
     "output_type": "execute_result"
    }
   ],
   "source": [
    "1+1"
   ]
  },
  {
   "cell_type": "markdown",
   "metadata": {},
   "source": [
    "You can directly perform basic arithmetic operations as shown above. Try out all the operators: +, -, /, \\*, \\*\\*"
   ]
  },
  {
   "cell_type": "markdown",
   "metadata": {},
   "source": [
    "### Assigning an object\n",
    "\n",
    "Use any name for the object and use the \"=\" operator to assign a value to that object. Ensure that the name is not one of the \"**keywords**\" that Python uses. Keywords get highlighted in green by the syntax highlighter."
   ]
  },
  {
   "cell_type": "code",
   "execution_count": 3,
   "metadata": {},
   "outputs": [],
   "source": [
    "myvariable = 1"
   ]
  },
  {
   "cell_type": "code",
   "execution_count": 4,
   "metadata": {},
   "outputs": [
    {
     "data": {
      "text/plain": [
       "1"
      ]
     },
     "execution_count": 4,
     "metadata": {},
     "output_type": "execute_result"
    }
   ],
   "source": [
    "myvariable"
   ]
  },
  {
   "cell_type": "code",
   "execution_count": 5,
   "metadata": {},
   "outputs": [
    {
     "data": {
      "text/plain": [
       "int"
      ]
     },
     "execution_count": 5,
     "metadata": {},
     "output_type": "execute_result"
    }
   ],
   "source": [
    "type(myvariable)"
   ]
  },
  {
   "cell_type": "markdown",
   "metadata": {},
   "source": [
    "Python has \"dynamic typing\", unlike C or Fortran where you have to define the type of the variable. Above, we created a variable called \"myvariable\", we didn't have to specify that it is of type integer. The name is a placeholder that allows us to access whatever is stored within it, think of it as an address that points to the location in the computer's memory where the actual values are stored.\n",
    "\n",
    "If you want to see the address of the object you created, use id()"
   ]
  },
  {
   "cell_type": "code",
   "execution_count": 6,
   "metadata": {},
   "outputs": [
    {
     "data": {
      "text/plain": [
       "4369318128"
      ]
     },
     "execution_count": 6,
     "metadata": {},
     "output_type": "execute_result"
    }
   ],
   "source": [
    "id(myvariable)"
   ]
  },
  {
   "cell_type": "markdown",
   "metadata": {},
   "source": [
    "This is a unique number that points to the memory location of your object."
   ]
  },
  {
   "cell_type": "code",
   "execution_count": 7,
   "metadata": {},
   "outputs": [],
   "source": [
    "myvariable = 42"
   ]
  },
  {
   "cell_type": "code",
   "execution_count": 8,
   "metadata": {},
   "outputs": [
    {
     "data": {
      "text/plain": [
       "4369319440"
      ]
     },
     "execution_count": 8,
     "metadata": {},
     "output_type": "execute_result"
    }
   ],
   "source": [
    "id(myvariable)"
   ]
  },
  {
   "cell_type": "markdown",
   "metadata": {},
   "source": [
    "If you re-assign an object, the name simply points to the new location in memory. Python has an in-built \"garbage collector\" that will release memory that is not being used anymore."
   ]
  },
  {
   "cell_type": "code",
   "execution_count": 9,
   "metadata": {},
   "outputs": [],
   "source": [
    "# you can use any name for your variable, as long as it is not a keyword!\n",
    "x = 10.5"
   ]
  },
  {
   "cell_type": "code",
   "execution_count": 10,
   "metadata": {},
   "outputs": [
    {
     "data": {
      "text/plain": [
       "float"
      ]
     },
     "execution_count": 10,
     "metadata": {},
     "output_type": "execute_result"
    }
   ],
   "source": [
    "type(x)"
   ]
  },
  {
   "cell_type": "code",
   "execution_count": null,
   "metadata": {},
   "outputs": [],
   "source": [
    "#Example, DO NOT DO THIS!\n",
    "#type = 42"
   ]
  },
  {
   "cell_type": "markdown",
   "metadata": {},
   "source": [
    "A [floating point](https://en.wikipedia.org/wiki/Floating-point_arithmetic) value allows for the storage of decimal numbers. In most situations, Python automatically converts integers to floats if your arithmetic requires floats. But it is useful to be mindful that an int type cannot represent decimals!"
   ]
  },
  {
   "cell_type": "code",
   "execution_count": 11,
   "metadata": {},
   "outputs": [
    {
     "data": {
      "text/plain": [
       "0"
      ]
     },
     "execution_count": 11,
     "metadata": {},
     "output_type": "execute_result"
    }
   ],
   "source": [
    "int(1/3)"
   ]
  },
  {
   "cell_type": "code",
   "execution_count": 12,
   "metadata": {},
   "outputs": [
    {
     "data": {
      "text/plain": [
       "0.3333333333333333"
      ]
     },
     "execution_count": 12,
     "metadata": {},
     "output_type": "execute_result"
    }
   ],
   "source": [
    "1/3"
   ]
  },
  {
   "cell_type": "markdown",
   "metadata": {},
   "source": [
    "### Lists"
   ]
  },
  {
   "cell_type": "code",
   "execution_count": 13,
   "metadata": {},
   "outputs": [],
   "source": [
    "y = [1,2,3,4]"
   ]
  },
  {
   "cell_type": "code",
   "execution_count": 14,
   "metadata": {},
   "outputs": [
    {
     "data": {
      "text/plain": [
       "[1, 2, 3, 4]"
      ]
     },
     "execution_count": 14,
     "metadata": {},
     "output_type": "execute_result"
    }
   ],
   "source": [
    "y"
   ]
  },
  {
   "cell_type": "code",
   "execution_count": 15,
   "metadata": {},
   "outputs": [
    {
     "data": {
      "text/plain": [
       "list"
      ]
     },
     "execution_count": 15,
     "metadata": {},
     "output_type": "execute_result"
    }
   ],
   "source": [
    "type(y)"
   ]
  },
  {
   "cell_type": "markdown",
   "metadata": {},
   "source": [
    "For programmers familiar with [Object Oriented Programming](https://en.wikipedia.org/wiki/Object-oriented_programming), you may be interested to know that in Python, everything is an object, including the integer and float that we created above and the list that we just created."
   ]
  },
  {
   "cell_type": "code",
   "execution_count": 16,
   "metadata": {},
   "outputs": [],
   "source": [
    "mixedlist = [1, 2, 3.5, 4]"
   ]
  },
  {
   "cell_type": "code",
   "execution_count": 17,
   "metadata": {},
   "outputs": [
    {
     "data": {
      "text/plain": [
       "[1, 2, 3.5, 4]"
      ]
     },
     "execution_count": 17,
     "metadata": {},
     "output_type": "execute_result"
    }
   ],
   "source": [
    "mixedlist"
   ]
  },
  {
   "cell_type": "code",
   "execution_count": 18,
   "metadata": {},
   "outputs": [
    {
     "data": {
      "text/plain": [
       "1"
      ]
     },
     "execution_count": 18,
     "metadata": {},
     "output_type": "execute_result"
    }
   ],
   "source": [
    "#access elements in the list by their index\n",
    "mixedlist[0]"
   ]
  },
  {
   "cell_type": "code",
   "execution_count": 19,
   "metadata": {},
   "outputs": [
    {
     "data": {
      "text/plain": [
       "2"
      ]
     },
     "execution_count": 19,
     "metadata": {},
     "output_type": "execute_result"
    }
   ],
   "source": [
    "#perform arithmetic operations with list elements\n",
    "y[0] * mixedlist[1]"
   ]
  },
  {
   "cell_type": "code",
   "execution_count": 20,
   "metadata": {},
   "outputs": [
    {
     "data": {
      "text/plain": [
       "'this is a string, plus another string!'"
      ]
     },
     "execution_count": 20,
     "metadata": {},
     "output_type": "execute_result"
    }
   ],
   "source": [
    "# but arithmetic operators may not always perform arithmetic! \n",
    "# If you supply objects other than float or int, see what happens:\n",
    "\"this is a string\" + \", plus another string!\""
   ]
  },
  {
   "cell_type": "code",
   "execution_count": 22,
   "metadata": {},
   "outputs": [
    {
     "data": {
      "text/plain": [
       "[1, 2, 3, 4, 1, 2, 3.5, 4]"
      ]
     },
     "execution_count": 22,
     "metadata": {},
     "output_type": "execute_result"
    }
   ],
   "source": [
    "# what if you used the + operator on two lists?\n",
    "y + mixedlist"
   ]
  },
  {
   "cell_type": "markdown",
   "metadata": {},
   "source": [
    "### More fundamental object types in Python:\n",
    "\n",
    "1. Tuples\n",
    "1. Dict\n",
    "1. String and character"
   ]
  },
  {
   "cell_type": "markdown",
   "metadata": {},
   "source": [
    "#### Tuples are fixed (immutable) arrays, their elements cannot be changed"
   ]
  },
  {
   "cell_type": "code",
   "execution_count": null,
   "metadata": {},
   "outputs": [],
   "source": [
    "x = (1,2,3,4,5) # tuples are created using parantheses, while lists are created using square braces"
   ]
  },
  {
   "cell_type": "code",
   "execution_count": null,
   "metadata": {},
   "outputs": [],
   "source": [
    "x"
   ]
  },
  {
   "cell_type": "code",
   "execution_count": null,
   "metadata": {},
   "outputs": [],
   "source": [
    "x[0] "
   ]
  },
  {
   "cell_type": "code",
   "execution_count": null,
   "metadata": {},
   "outputs": [],
   "source": [
    "x[0] = 12"
   ]
  },
  {
   "cell_type": "markdown",
   "metadata": {},
   "source": [
    "#### Dict or dictionaries are created using curly braces. They consist of a key:value pair"
   ]
  },
  {
   "cell_type": "code",
   "execution_count": null,
   "metadata": {},
   "outputs": [],
   "source": [
    "mydict = {\"names\":[\"Jim\", \"Jane\", \"Alice\", \"Bob\"], \"age\":[24, 38, 46, 12]}"
   ]
  },
  {
   "cell_type": "code",
   "execution_count": null,
   "metadata": {},
   "outputs": [],
   "source": [
    "mydict"
   ]
  },
  {
   "cell_type": "code",
   "execution_count": null,
   "metadata": {},
   "outputs": [],
   "source": [
    "mydict[\"names\"]"
   ]
  },
  {
   "cell_type": "code",
   "execution_count": null,
   "metadata": {},
   "outputs": [],
   "source": [
    "mydict[\"age\"][1]"
   ]
  },
  {
   "cell_type": "markdown",
   "metadata": {},
   "source": [
    "#### Strings and characters"
   ]
  },
  {
   "cell_type": "code",
   "execution_count": null,
   "metadata": {},
   "outputs": [],
   "source": [
    "mystring = \"this is my string of characters\""
   ]
  },
  {
   "cell_type": "code",
   "execution_count": null,
   "metadata": {},
   "outputs": [],
   "source": [
    "mystring"
   ]
  },
  {
   "cell_type": "code",
   "execution_count": null,
   "metadata": {},
   "outputs": [],
   "source": [
    "type(mystring)"
   ]
  },
  {
   "cell_type": "code",
   "execution_count": null,
   "metadata": {},
   "outputs": [],
   "source": [
    "mystring[0]"
   ]
  },
  {
   "cell_type": "code",
   "execution_count": null,
   "metadata": {},
   "outputs": [],
   "source": [
    "mystring.split(\" \") "
   ]
  },
  {
   "cell_type": "markdown",
   "metadata": {},
   "source": [
    "#### For those interested, string matching functions using regular expressions are provided in the package: [re](https://docs.python.org/3/library/re.html)"
   ]
  },
  {
   "cell_type": "markdown",
   "metadata": {},
   "source": [
    "### For loops"
   ]
  },
  {
   "cell_type": "code",
   "execution_count": null,
   "metadata": {},
   "outputs": [],
   "source": [
    "for i in range(0, 10, 1):\n",
    "    print(i)"
   ]
  },
  {
   "cell_type": "code",
   "execution_count": null,
   "metadata": {},
   "outputs": [],
   "source": [
    "range?"
   ]
  },
  {
   "cell_type": "code",
   "execution_count": null,
   "metadata": {},
   "outputs": [],
   "source": [
    "# you can even loop over iterable objects\n",
    "\n",
    "for element in y:\n",
    "    print(element)"
   ]
  },
  {
   "cell_type": "markdown",
   "metadata": {},
   "source": [
    "### Conditional statements and Boolean logic"
   ]
  },
  {
   "cell_type": "code",
   "execution_count": null,
   "metadata": {},
   "outputs": [],
   "source": [
    "if True:\n",
    "    print(\"True\")\n",
    "else:\n",
    "    print(\"False\")"
   ]
  },
  {
   "cell_type": "code",
   "execution_count": null,
   "metadata": {},
   "outputs": [],
   "source": [
    "mybool = False\n",
    "if mybool:\n",
    "    print(\"True\")\n",
    "else:\n",
    "    print(\"False\")"
   ]
  },
  {
   "cell_type": "code",
   "execution_count": null,
   "metadata": {},
   "outputs": [],
   "source": [
    "if(y[0] < 5):\n",
    "    print(y[0], \"is less than 5\")"
   ]
  },
  {
   "cell_type": "code",
   "execution_count": null,
   "metadata": {},
   "outputs": [],
   "source": [
    "print(False and False)\n",
    "print(False and True)\n",
    "print(True and False)\n",
    "print(True and True)"
   ]
  },
  {
   "cell_type": "code",
   "execution_count": null,
   "metadata": {},
   "outputs": [],
   "source": [
    "print(False or False)\n",
    "print(False or True)\n",
    "print(True or False)\n",
    "print(True or True)"
   ]
  },
  {
   "cell_type": "code",
   "execution_count": null,
   "metadata": {},
   "outputs": [],
   "source": [
    "print(True & True)\n",
    "print(True | False)"
   ]
  },
  {
   "cell_type": "markdown",
   "metadata": {},
   "source": [
    "Caution: \"&\" and \"|\" are [bitwise](https://wiki.python.org/moin/BitwiseOperators) \"AND\" and \"OR\" operators! The objects being compared are compared as bits. If this doesn't make sense, the compiler will throw an error. You will mostly only need bitwise operations for most of your simple logical tests in your program. But it is useful to be aware of this!"
   ]
  },
  {
   "cell_type": "code",
   "execution_count": null,
   "metadata": {},
   "outputs": [],
   "source": [
    "[1,2] and [2,3]"
   ]
  },
  {
   "cell_type": "markdown",
   "metadata": {},
   "source": [
    "The logical and operator simply checked if the first object is \"True\" (i.e. it exists) and if the second object is \"True\" and simply returns the last object that it found to be \"True\""
   ]
  },
  {
   "cell_type": "code",
   "execution_count": null,
   "metadata": {},
   "outputs": [],
   "source": [
    "count = 0\n",
    "while count < 4:\n",
    "    print(y[count])\n",
    "    count = count + 1"
   ]
  },
  {
   "cell_type": "markdown",
   "metadata": {},
   "source": [
    "### You can define your own Functions using the keyword \"def\"\n",
    "\n",
    "[See documentation here](https://docs.python.org/3/tutorial/controlflow.html#defining-functions)\n",
    "\n",
    "Functions are a neat way of organizing your code. You can compartmentalize your code by the function that is performed. This leads to cleaner development of large complex codes and easier debugging.\n",
    "\n",
    "A function accepts certain \"arguments\" and performs certain operations on these arguments. It can then return some value. A simple example of a function is the in-built funciton you used to write your first piece of code: print(\"some string here\"). The print() function accepts a string value as an argument and transfers that string to the standard output display."
   ]
  },
  {
   "cell_type": "code",
   "execution_count": null,
   "metadata": {},
   "outputs": [],
   "source": [
    "def myfunc_compute_square_root(myarg):\n",
    "    # do something with the arguments passed, and return some value\n",
    "    myarg = myarg**0.5\n",
    "    print(myarg)"
   ]
  },
  {
   "cell_type": "code",
   "execution_count": null,
   "metadata": {},
   "outputs": [],
   "source": [
    "# call the function and pass it the argument that it needs\n",
    "x = 4\n",
    "myfunc_compute_square_root(x)"
   ]
  },
  {
   "cell_type": "code",
   "execution_count": null,
   "metadata": {},
   "outputs": [],
   "source": [
    "x"
   ]
  },
  {
   "cell_type": "markdown",
   "metadata": {},
   "source": [
    "### But notice that the value stored in \"x\" has not been modified.\n",
    "\n",
    "This is because the moment you re-reference something to \"myarg\", a new object is created in memory. If you want the changes to myarg to be transfered to \"x\" outside the function, then use the \"return\" keyword."
   ]
  },
  {
   "cell_type": "code",
   "execution_count": null,
   "metadata": {},
   "outputs": [],
   "source": [
    "def myfunc_compute_square_root(myarg):\n",
    "    # do something with the arguments passed, and return some value\n",
    "    return myarg**0.5"
   ]
  },
  {
   "cell_type": "code",
   "execution_count": null,
   "metadata": {},
   "outputs": [],
   "source": [
    "# call the function and pass it the argument that it needs\n",
    "x = 4\n",
    "x = myfunc_compute_square_root(x)"
   ]
  },
  {
   "cell_type": "code",
   "execution_count": null,
   "metadata": {},
   "outputs": [],
   "source": [
    "x"
   ]
  },
  {
   "cell_type": "markdown",
   "metadata": {},
   "source": [
    "Now the operations that we carried out within the function have been \"returned\" to the object \"x\"!\n",
    "\n",
    "Finally, learn the difference between keyword argum"
   ]
  },
  {
   "cell_type": "markdown",
   "metadata": {},
   "source": [
    "### You can run code contained in a separate Python script using the command: run </path/to/file>"
   ]
  },
  {
   "cell_type": "code",
   "execution_count": null,
   "metadata": {},
   "outputs": [],
   "source": [
    "!echo 'print(\"This is a print statement written into a script.\")' > print_script.py"
   ]
  },
  {
   "cell_type": "code",
   "execution_count": null,
   "metadata": {},
   "outputs": [],
   "source": [
    "!ls "
   ]
  },
  {
   "cell_type": "code",
   "execution_count": null,
   "metadata": {},
   "outputs": [],
   "source": [
    "!cat print_script.py"
   ]
  },
  {
   "cell_type": "code",
   "execution_count": null,
   "metadata": {},
   "outputs": [],
   "source": [
    "run print_script.py"
   ]
  },
  {
   "cell_type": "markdown",
   "metadata": {},
   "source": [
    "### You can import functions of your own too by using the keyword: \"import\""
   ]
  },
  {
   "cell_type": "code",
   "execution_count": null,
   "metadata": {},
   "outputs": [],
   "source": [
    "import myadder"
   ]
  },
  {
   "cell_type": "code",
   "execution_count": null,
   "metadata": {},
   "outputs": [],
   "source": [
    "myadder.adder(10, 20)"
   ]
  },
  {
   "cell_type": "markdown",
   "metadata": {},
   "source": [
    "### Magic commands\n",
    "\n",
    "For a full list of magic commands, type %magic\n",
    "\n",
    "Here, let's learn to use the %timeit magic function"
   ]
  },
  {
   "cell_type": "code",
   "execution_count": null,
   "metadata": {},
   "outputs": [],
   "source": [
    "%%timeit\n",
    "x = []\n",
    "for i in range(1000):\n",
    "    x.append(i**2 + 0.5 * i + 2.5)"
   ]
  },
  {
   "cell_type": "markdown",
   "metadata": {},
   "source": [
    "## Exercise 01: For loop to find the minimum value\n",
    "\n",
    "Write code that finds the minimum value within a list. A pseudo-algorithm follows.\n",
    "\n",
    "1. Create a list with at least 10 random values (use integers or floats).\n",
    "1. Loop over each element of the list.\n",
    "1. During the 0'th iteration of the loop, store the 0th value of the list in a variable \"imin\".\n",
    "1. During iterations > 0 of the loop, write a conditional statement that compares the value stored in the variable \"imin\" with the element of the list. \n",
    "    - If the current element is smaller than the value in \"imin\", then store the current element in \"imin\".\n",
    "    - Hint: The operator \"==\" is used to compare two values.\n",
    "    \n",
    "At the end of the loop, \"imin\" will have the minimum value found in the list"
   ]
  },
  {
   "cell_type": "code",
   "execution_count": null,
   "metadata": {},
   "outputs": [],
   "source": [
    "#To load the solution, uncomment the following line by deleting the leading # character\n",
    "# %load ./solutions/sol_00_02.py"
   ]
  },
  {
   "cell_type": "markdown",
   "metadata": {},
   "source": [
    "### Exercise 02: Write a function that performs a basic arithmetic operation\n",
    "\n",
    "Write a function that accepts two numbers as arguments and multiplies them together and returns the product. Learn the \"scope\" of the variable, remember to return the value if you want to use the multiplied value outside the function."
   ]
  },
  {
   "cell_type": "markdown",
   "metadata": {},
   "source": [
    "<br></br>\n",
    "\n",
    "### For those who want more information about installing Python on your own machines:\n",
    "\n",
    "1. Linux and Mac users: Python ships with most distributions. You can open your terminal and simply open the Python shell by typing \"python\" or \"ipython\" if you have the interactive shell. \n",
    "    - If you want to have more advanced features such as virtual environments to avoid possible conflicts between packages, then use [Conda](https://conda.io/projects/conda/en/latest/user-guide/install/index.html)\n",
    "<br></br>\n",
    "1. Windows users: there are many options to choose from. Here is an article from Microsoft that guides beginners with their Python installation. [Conda is available for Windows too.](https://conda.io/projects/conda/en/latest/user-guide/install/index.html)\n",
    "\n",
    "<br></br>\n",
    "Once you have Python installed, you will have to [install packages associated with Jupyter notebooks](https://jupyter.org/install) if you want this development environment."
   ]
  },
  {
   "cell_type": "code",
   "execution_count": null,
   "metadata": {},
   "outputs": [],
   "source": []
  }
 ],
 "metadata": {
  "kernelspec": {
   "display_name": "Python 3 (ipykernel)",
   "language": "python",
   "name": "python3"
  },
  "language_info": {
   "codemirror_mode": {
    "name": "ipython",
    "version": 3
   },
   "file_extension": ".py",
   "mimetype": "text/x-python",
   "name": "python",
   "nbconvert_exporter": "python",
   "pygments_lexer": "ipython3",
   "version": "3.10.9"
  }
 },
 "nbformat": 4,
 "nbformat_minor": 4
}
